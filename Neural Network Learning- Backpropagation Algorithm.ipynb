{
 "cells": [
  {
   "cell_type": "markdown",
   "metadata": {},
   "source": [
    "## Neural Network Learning"
   ]
  },
  {
   "cell_type": "code",
   "execution_count": 3,
   "metadata": {},
   "outputs": [],
   "source": [
    "import numpy as np\n",
    "import pandas as pd\n",
    "import matplotlib.pyplot as plt\n",
    "% matplotlib inline"
   ]
  },
  {
   "cell_type": "code",
   "execution_count": 4,
   "metadata": {},
   "outputs": [
    {
     "name": "stdout",
     "output_type": "stream",
     "text": [
      "(5000, 400)\n",
      "(5000,)\n"
     ]
    }
   ],
   "source": [
    "X= np.loadtxt('machine-learning-ex3/ex3data1.txt')\n",
    "y= np.loadtxt('machine-learning-ex3/ex3datay.txt')\n",
    "print(X.shape)\n",
    "print(y.shape)"
   ]
  },
  {
   "cell_type": "code",
   "execution_count": 5,
   "metadata": {},
   "outputs": [
    {
     "name": "stdout",
     "output_type": "stream",
     "text": [
      "(25, 401)\n",
      "(10, 26)\n"
     ]
    }
   ],
   "source": [
    "theta1= np.loadtxt('machine-learning-ex3/ex3weights.txt')\n",
    "theta2= np.loadtxt('machine-learning-ex3/ex3weights2.txt')\n",
    "print(theta1.shape)\n",
    "print(theta2.shape)"
   ]
  },
  {
   "cell_type": "code",
   "execution_count": 6,
   "metadata": {},
   "outputs": [],
   "source": [
    "def display(index):\n",
    "    ex= X[index]\n",
    "    ex= ex.reshape((20,20)).transpose()\n",
    "    plt.imshow(ex, cmap= 'gray')"
   ]
  },
  {
   "cell_type": "code",
   "execution_count": 7,
   "metadata": {},
   "outputs": [],
   "source": [
    "def sigmoid(z):\n",
    "    return 1.0 / (1.0 + np.exp(-z));"
   ]
  },
  {
   "cell_type": "code",
   "execution_count": 8,
   "metadata": {},
   "outputs": [],
   "source": [
    "def fwp(index, l, theta1, theta2):\n",
    "    x= X[index]\n",
    "    x= x[None].transpose()\n",
    "    if(l==1): \n",
    "        return x\n",
    "    \n",
    "    a1= np.insert(x, 0, 1, axis=0)\n",
    "    z2= np.dot(theta1, a1)\n",
    "    a2= sigmoid(z2)\n",
    "    if(l==2):\n",
    "        return a2\n",
    "    \n",
    "    a2= np.insert(a2, 0, 1, axis=0)\n",
    "    z3= np.dot(theta2, a2)\n",
    "    a3= sigmoid(z3)\n",
    "    \n",
    "    return a3"
   ]
  },
  {
   "cell_type": "code",
   "execution_count": 9,
   "metadata": {},
   "outputs": [
    {
     "data": {
      "text/plain": [
       "(10, 1)"
      ]
     },
     "execution_count": 9,
     "metadata": {},
     "output_type": "execute_result"
    }
   ],
   "source": [
    "fwp(1,3,theta1, theta2).shape"
   ]
  },
  {
   "cell_type": "code",
   "execution_count": 10,
   "metadata": {},
   "outputs": [],
   "source": [
    "def hyp(index, theta1, theta2):\n",
    "    x= X[index]\n",
    "    x= x[None].transpose()\n",
    "    \n",
    "    a1= np.insert(x, 0, 1, axis=0)\n",
    "    z2= np.dot(theta1, a1)\n",
    "    a2= sigmoid(z2)\n",
    "    \n",
    "    a2= np.insert(a2, 0, 1, axis=0)\n",
    "    z3= np.dot(theta2, a2)\n",
    "    a3= sigmoid(z3)\n",
    "    \n",
    "    return a3"
   ]
  },
  {
   "cell_type": "code",
   "execution_count": 11,
   "metadata": {},
   "outputs": [],
   "source": [
    "def predict(index, info=False):\n",
    "    x= X[index]\n",
    "    x= x[None].transpose()\n",
    "    \n",
    "    a1= np.insert(x, 0, 1, axis=0)\n",
    "    z2= np.dot(theta1, a1)\n",
    "    a2= sigmoid(z2)\n",
    "    \n",
    "    a2= np.insert(a2, 0, 1, axis=0)\n",
    "    z3= np.dot(theta2, a2)\n",
    "    a3= sigmoid(z3)\n",
    "    \n",
    "    output= np.argmax(a3) + 1\n",
    "    \n",
    "    if(info):\n",
    "        #print(a3,'\\n')\n",
    "        print(\"True value is \",y[index])\n",
    "        print(\"Predicted value is \",output)\n",
    "        print(\"Probablity is \", max(a3))\n",
    "        display(index)\n",
    "    return output==y[index]"
   ]
  },
  {
   "cell_type": "code",
   "execution_count": 12,
   "metadata": {},
   "outputs": [
    {
     "data": {
      "text/plain": [
       "array([0, 0, 0, 0, 0, 0, 0, 0, 0, 1], dtype=uint8)"
      ]
     },
     "execution_count": 12,
     "metadata": {},
     "output_type": "execute_result"
    }
   ],
   "source": [
    "input_layer_size= 400\n",
    "hidden_layer_size= 25\n",
    "num_labels= 10\n",
    "yy= pd.Series(y)\n",
    "ys= pd.get_dummies(yy)\n",
    "ys.iloc[0].values"
   ]
  },
  {
   "cell_type": "code",
   "execution_count": 13,
   "metadata": {},
   "outputs": [
    {
     "name": "stdout",
     "output_type": "stream",
     "text": [
      "(25, 401)\n",
      "(10, 26)\n"
     ]
    }
   ],
   "source": [
    "theta1= np.random.rand(hidden_layer_size, input_layer_size)\n",
    "theta2= np.random.rand(num_labels, hidden_layer_size)\n",
    "theta1= np.insert(theta1, 0, 1, axis=1)\n",
    "theta2= np.insert(theta2, 0, 1, axis=1)\n",
    "print(theta1.shape)\n",
    "print(theta2.shape)"
   ]
  },
  {
   "cell_type": "markdown",
   "metadata": {},
   "source": [
    "### Cost Function"
   ]
  },
  {
   "cell_type": "code",
   "execution_count": 14,
   "metadata": {},
   "outputs": [
    {
     "name": "stdout",
     "output_type": "stream",
     "text": [
      "[[118.35749916]]\n"
     ]
    }
   ],
   "source": [
    "m= 5000\n",
    "ans=0\n",
    "for i in range(m):\n",
    "    h= hyp(i, theta1, theta2)\n",
    "    y= ys.iloc[i].values[None]\n",
    "    #print(h.shape)\n",
    "    #print(y.shape)\n",
    "    \n",
    "    t1= np.dot(y,np.log(h))\n",
    "    t2= np.dot((1-y), np.log(1- h))\n",
    "    #print('t1 is {}'.format(t1))\n",
    "    #print('t2 is {}'.format(t2))\n",
    "    \n",
    "    ans+= (t1+t2)\n",
    "ans*= (-1.0/m)\n",
    "\n",
    "print(ans)"
   ]
  },
  {
   "cell_type": "markdown",
   "metadata": {},
   "source": [
    "### Gradient Computation"
   ]
  },
  {
   "cell_type": "code",
   "execution_count": null,
   "metadata": {},
   "outputs": [],
   "source": [
    "print('Theta1 {}'.format(theta1.shape))\n",
    "print('Theta2 {}'.format(theta2.shape))\n",
    "h= hyp(0, theta1, theta2)\n",
    "print('H {}'.format(h.shape))\n",
    "print('y {}'.format(y.shape))"
   ]
  },
  {
   "cell_type": "code",
   "execution_count": null,
   "metadata": {},
   "outputs": [],
   "source": [
    "fwp(0, 3, theta1, theta2).shape"
   ]
  },
  {
   "cell_type": "code",
   "execution_count": null,
   "metadata": {},
   "outputs": [],
   "source": [
    "yyy= ys.iloc[0].values[None].transpose()\n",
    "yyy.shape"
   ]
  },
  {
   "cell_type": "code",
   "execution_count": 21,
   "metadata": {},
   "outputs": [
    {
     "name": "stdout",
     "output_type": "stream",
     "text": [
      "(10, 25)\n"
     ]
    }
   ],
   "source": [
    "cdel3= 0\n",
    "cdel2= 0\n",
    "\n",
    "a3= fwp(i, 3, theta1, theta2)\n",
    "yt= ys.iloc[i].values[None].transpose()\n",
    "del3= a3 - yt\n",
    "\n",
    "a2= fwp(i, 2, theta1, theta2)\n",
    "del2= np.dot(theta2[:,1:].transpose(), del3) * a2 * (1 - a2)\n",
    "cdel2+= np.dot(del3, a2.transpose())\n",
    "print(cdel2.shape)\n"
   ]
  },
  {
   "cell_type": "code",
   "execution_count": 22,
   "metadata": {},
   "outputs": [
    {
     "name": "stdout",
     "output_type": "stream",
     "text": [
      "theta1 (25, 401)\n",
      "theta2 (10, 26)\n",
      "ys (5000, 10)\n",
      "a3 (10, 1)\n",
      "a2 (25, 1)\n",
      "yt (10, 1)\n"
     ]
    }
   ],
   "source": [
    "print('theta1', theta1.shape)\n",
    "print('theta2', theta2.shape)\n",
    "print('ys',ys.shape)\n",
    "print('a3',fwp(0,3,theta1, theta2).shape)\n",
    "print('a2',fwp(0,2,theta1, theta2).shape)\n",
    "print('yt', yt.shape)"
   ]
  },
  {
   "cell_type": "code",
   "execution_count": null,
   "metadata": {},
   "outputs": [],
   "source": []
  }
 ],
 "metadata": {
  "kernelspec": {
   "display_name": "Python 3",
   "language": "python",
   "name": "python3"
  }
 },
 "nbformat": 4,
 "nbformat_minor": 2
}
