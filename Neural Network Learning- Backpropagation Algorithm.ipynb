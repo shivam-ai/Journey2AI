{
 "cells": [
  {
   "cell_type": "markdown",
   "metadata": {},
   "source": [
    "## Neural Network Learning"
   ]
  },
  {
   "cell_type": "code",
   "execution_count": 4,
   "metadata": {},
   "outputs": [],
   "source": [
    "import numpy as np\n",
    "import pandas as pd\n",
    "import matplotlib.pyplot as plt\n",
    "% matplotlib inline"
   ]
  },
  {
   "cell_type": "code",
   "execution_count": 6,
   "metadata": {},
   "outputs": [
    {
     "name": "stdout",
     "output_type": "stream",
     "text": [
      "(5000, 400)\n",
      "(5000,)\n"
     ]
    }
   ],
   "source": [
    "X= np.loadtxt('Files/ex3data1.txt')\n",
    "y= np.loadtxt('Files/ex3datay.txt')\n",
    "print(X.shape)\n",
    "print(y.shape)"
   ]
  },
  {
   "cell_type": "code",
   "execution_count": 8,
   "metadata": {},
   "outputs": [
    {
     "name": "stdout",
     "output_type": "stream",
     "text": [
      "(25, 401)\n",
      "(10, 26)\n"
     ]
    }
   ],
   "source": [
    "theta1= np.loadtxt('Files/ex3weights.txt')\n",
    "theta2= np.loadtxt('Files/ex3weights2.txt')\n",
    "print(theta1.shape)\n",
    "print(theta2.shape)"
   ]
  },
  {
   "cell_type": "code",
   "execution_count": 9,
   "metadata": {},
   "outputs": [],
   "source": [
    "def display(index):\n",
    "    ex= X[index]\n",
    "    ex= ex.reshape((20,20)).transpose()\n",
    "    plt.imshow(ex, cmap= 'gray')"
   ]
  },
  {
   "cell_type": "code",
   "execution_count": 10,
   "metadata": {},
   "outputs": [],
   "source": [
    "def sigmoid(z):\n",
    "    return 1.0 / (1.0 + np.exp(-z));"
   ]
  },
  {
   "cell_type": "code",
   "execution_count": 42,
   "metadata": {},
   "outputs": [],
   "source": [
    "def fwp(index, l, theta1, theta2):\n",
    "    x= X[index]\n",
    "    x= x[None].transpose()\n",
    "    if(l==1): \n",
    "        return x\n",
    "    \n",
    "    a1= np.insert(x, 0, 1, axis=0)\n",
    "    z2= np.dot(theta1, a1)\n",
    "    a2= sigmoid(z2)\n",
    "    a2= np.insert(a2, 0, 1, axis=0)\n",
    "    if(l==2):\n",
    "        return a2\n",
    "    \n",
    "    z3= np.dot(theta2, a2)\n",
    "    a3= sigmoid(z3)\n",
    "    \n",
    "    return a3"
   ]
  },
  {
   "cell_type": "code",
   "execution_count": 12,
   "metadata": {},
   "outputs": [
    {
     "data": {
      "text/plain": [
       "(10, 1)"
      ]
     },
     "execution_count": 12,
     "metadata": {},
     "output_type": "execute_result"
    }
   ],
   "source": [
    "fwp(1,3,theta1, theta2).shape"
   ]
  },
  {
   "cell_type": "code",
   "execution_count": 13,
   "metadata": {},
   "outputs": [],
   "source": [
    "def hyp(index, theta1, theta2):\n",
    "    x= X[index]\n",
    "    x= x[None].transpose()\n",
    "    \n",
    "    a1= np.insert(x, 0, 1, axis=0)\n",
    "    z2= np.dot(theta1, a1)\n",
    "    a2= sigmoid(z2)\n",
    "    \n",
    "    a2= np.insert(a2, 0, 1, axis=0)\n",
    "    z3= np.dot(theta2, a2)\n",
    "    a3= sigmoid(z3)\n",
    "    \n",
    "    return a3"
   ]
  },
  {
   "cell_type": "code",
   "execution_count": 14,
   "metadata": {},
   "outputs": [],
   "source": [
    "def predict(index, info=False):\n",
    "    x= X[index]\n",
    "    x= x[None].transpose()\n",
    "    \n",
    "    a1= np.insert(x, 0, 1, axis=0)\n",
    "    z2= np.dot(theta1, a1)\n",
    "    a2= sigmoid(z2)\n",
    "    \n",
    "    a2= np.insert(a2, 0, 1, axis=0)\n",
    "    z3= np.dot(theta2, a2)\n",
    "    a3= sigmoid(z3)\n",
    "    \n",
    "    output= np.argmax(a3) + 1\n",
    "    \n",
    "    if(info):\n",
    "        #print(a3,'\\n')\n",
    "        print(\"True value is \",y[index])\n",
    "        print(\"Predicted value is \",output)\n",
    "        print(\"Probablity is \", max(a3))\n",
    "        display(index)\n",
    "    return output==y[index]"
   ]
  },
  {
   "cell_type": "code",
   "execution_count": 15,
   "metadata": {},
   "outputs": [
    {
     "data": {
      "text/plain": [
       "array([0, 0, 0, 0, 0, 0, 0, 0, 0, 1], dtype=uint8)"
      ]
     },
     "execution_count": 15,
     "metadata": {},
     "output_type": "execute_result"
    }
   ],
   "source": [
    "input_layer_size= 400\n",
    "hidden_layer_size= 25\n",
    "num_labels= 10\n",
    "yy= pd.Series(y)\n",
    "ys= pd.get_dummies(yy)\n",
    "ys.iloc[0].values"
   ]
  },
  {
   "cell_type": "code",
   "execution_count": 107,
   "metadata": {},
   "outputs": [
    {
     "name": "stdout",
     "output_type": "stream",
     "text": [
      "(25, 401)\n",
      "(10, 26)\n"
     ]
    }
   ],
   "source": [
    "theta1= np.random.rand(hidden_layer_size, input_layer_size)\n",
    "theta2= np.random.rand(num_labels, hidden_layer_size)\n",
    "theta1= np.insert(theta1, 0, 1, axis=1)\n",
    "theta2= np.insert(theta2, 0, 1, axis=1)\n",
    "print(theta1.shape)\n",
    "print(theta2.shape)"
   ]
  },
  {
   "cell_type": "code",
   "execution_count": 143,
   "metadata": {},
   "outputs": [
    {
     "name": "stdout",
     "output_type": "stream",
     "text": [
      "(2,)\n"
     ]
    },
    {
     "data": {
      "text/plain": [
       "(10, 26)"
      ]
     },
     "execution_count": 143,
     "metadata": {},
     "output_type": "execute_result"
    }
   ],
   "source": [
    "theta= np.array([theta1, theta2])\n",
    "print(theta.shape)\n",
    "theta[1].shape\n"
   ]
  },
  {
   "cell_type": "markdown",
   "metadata": {},
   "source": [
    "### Cost Function"
   ]
  },
  {
   "cell_type": "code",
   "execution_count": 144,
   "metadata": {},
   "outputs": [],
   "source": [
    "def costFunc(theta):\n",
    "    m= 5000\n",
    "    ans=0\n",
    "    theta1= theta[0]\n",
    "    theta2= theta[1]\n",
    "    for i in range(m):\n",
    "        h= hyp(i, theta1, theta2)\n",
    "        y= ys.iloc[i].values[None]\n",
    "\n",
    "        t1= np.dot(y,np.log(h))\n",
    "        t2= np.dot((1-y), np.log(1- h))\n",
    "        ans+= (t1+t2)\n",
    "        \n",
    "    ans*= (-1.0/m)\n",
    "    return ans\n"
   ]
  },
  {
   "cell_type": "markdown",
   "metadata": {},
   "source": [
    "### Gradient Computation"
   ]
  },
  {
   "cell_type": "code",
   "execution_count": 145,
   "metadata": {},
   "outputs": [],
   "source": [
    "def gradient(theta):\n",
    "    theta1= theta[0]\n",
    "    theta2= theta[1]\n",
    "    \n",
    "    cdel1= np.zeros((25,401))\n",
    "    cdel2= np.zeros((10,26))\n",
    "    for i in range(10):\n",
    "        x= X[i]\n",
    "        x= x[None].transpose()\n",
    "        yt= ys.iloc[i].values[None].transpose()\n",
    "        #print('yt', yt.shape)\n",
    "\n",
    "        a1= x\n",
    "        #print('a1', a1.shape)\n",
    "\n",
    "        a1= np.insert(x, 0, 1, axis=0)\n",
    "        z2= np.dot(theta1, np.insert(x, 0, 1, axis=0))\n",
    "        a2= sigmoid(z2)\n",
    "        #print('a2', a2.shape)\n",
    "\n",
    "        a2= np.insert(a2, 0, 1, axis=0)\n",
    "        z3= np.dot(theta2, a2)\n",
    "        a3= sigmoid(z3)\n",
    "        #print('a3', a3.shape)\n",
    "\n",
    "        del3= a3 - yt\n",
    "        #print('del3',del3.shape)\n",
    "\n",
    "        del2= np.dot(theta2.transpose(), del3) * a2 * (1-a2)\n",
    "        #print('del2',del2.shape)\n",
    "\n",
    "        cdel2+= np.dot(del3, a2.transpose())\n",
    "        #print('cdel2',cdel2.shape)\n",
    "        cdel1+= np.dot(del2[1:,:], a1.transpose())\n",
    "        #print('cdel1',cdel1.shape)\n",
    "\n",
    "    print('*'*50)\n",
    "    print('theta1', theta1.shape)\n",
    "    print('theta2', theta2.shape)\n",
    "    d2= (cdel2 + theta2) / m\n",
    "    print('d2', d2.shape)\n",
    "    d1= (cdel1 + theta1) / m\n",
    "    print('d1', d1.shape)\n",
    "    \n",
    "    d= np.array([d1, d2])\n",
    "    return d\n",
    "#gradient()"
   ]
  },
  {
   "cell_type": "code",
   "execution_count": 149,
   "metadata": {},
   "outputs": [
    {
     "name": "stdout",
     "output_type": "stream",
     "text": [
      "(25, 401)\n",
      "(10, 26)\n",
      "(2,)\n"
     ]
    }
   ],
   "source": [
    "theta1= np.random.rand(hidden_layer_size, input_layer_size)\n",
    "theta2= np.random.rand(num_labels, hidden_layer_size)\n",
    "theta1= np.insert(theta1, 0, 1, axis=1)\n",
    "theta2= np.insert(theta2, 0, 1, axis=1)\n",
    "initTheta= np.array([theta1, theta2])\n",
    "print(theta1.shape)\n",
    "print(theta2.shape)\n",
    "print(initTheta.shape)"
   ]
  },
  {
   "cell_type": "code",
   "execution_count": 150,
   "metadata": {},
   "outputs": [
    {
     "ename": "ValueError",
     "evalue": "setting an array element with a sequence.",
     "output_type": "error",
     "traceback": [
      "\u001b[0;31m---------------------------------------------------------------------------\u001b[0m",
      "\u001b[0;31mValueError\u001b[0m                                Traceback (most recent call last)",
      "\u001b[0;32m<ipython-input-150-4bcf9225dd6d>\u001b[0m in \u001b[0;36m<module>\u001b[0;34m()\u001b[0m\n\u001b[1;32m      1\u001b[0m \u001b[0;32mimport\u001b[0m \u001b[0mscipy\u001b[0m\u001b[0;34m.\u001b[0m\u001b[0moptimize\u001b[0m \u001b[0;32mas\u001b[0m \u001b[0mop\u001b[0m\u001b[0;34m\u001b[0m\u001b[0m\n\u001b[0;32m----> 2\u001b[0;31m \u001b[0mresult\u001b[0m\u001b[0;34m=\u001b[0m \u001b[0mop\u001b[0m\u001b[0;34m.\u001b[0m\u001b[0mminimize\u001b[0m\u001b[0;34m(\u001b[0m\u001b[0mfun\u001b[0m\u001b[0;34m=\u001b[0m \u001b[0mcostFunc\u001b[0m\u001b[0;34m,\u001b[0m \u001b[0mx0\u001b[0m\u001b[0;34m=\u001b[0m \u001b[0minitTheta\u001b[0m\u001b[0;34m,\u001b[0m \u001b[0mmethod\u001b[0m\u001b[0;34m=\u001b[0m \u001b[0;34m'TNC'\u001b[0m\u001b[0;34m,\u001b[0m \u001b[0mjac\u001b[0m\u001b[0;34m=\u001b[0m \u001b[0mgradient\u001b[0m\u001b[0;34m)\u001b[0m\u001b[0;34m\u001b[0m\u001b[0m\n\u001b[0m\u001b[1;32m      3\u001b[0m \u001b[0mresult\u001b[0m\u001b[0;34m.\u001b[0m\u001b[0mx\u001b[0m\u001b[0;34m\u001b[0m\u001b[0m\n",
      "\u001b[0;32m~/anaconda3/lib/python3.6/site-packages/scipy/optimize/_minimize.py\u001b[0m in \u001b[0;36mminimize\u001b[0;34m(fun, x0, args, method, jac, hess, hessp, bounds, constraints, tol, callback, options)\u001b[0m\n\u001b[1;32m    451\u001b[0m     \u001b[0;32melif\u001b[0m \u001b[0mmeth\u001b[0m \u001b[0;34m==\u001b[0m \u001b[0;34m'tnc'\u001b[0m\u001b[0;34m:\u001b[0m\u001b[0;34m\u001b[0m\u001b[0m\n\u001b[1;32m    452\u001b[0m         return _minimize_tnc(fun, x0, args, jac, bounds, callback=callback,\n\u001b[0;32m--> 453\u001b[0;31m                              **options)\n\u001b[0m\u001b[1;32m    454\u001b[0m     \u001b[0;32melif\u001b[0m \u001b[0mmeth\u001b[0m \u001b[0;34m==\u001b[0m \u001b[0;34m'cobyla'\u001b[0m\u001b[0;34m:\u001b[0m\u001b[0;34m\u001b[0m\u001b[0m\n\u001b[1;32m    455\u001b[0m         \u001b[0;32mreturn\u001b[0m \u001b[0m_minimize_cobyla\u001b[0m\u001b[0;34m(\u001b[0m\u001b[0mfun\u001b[0m\u001b[0;34m,\u001b[0m \u001b[0mx0\u001b[0m\u001b[0;34m,\u001b[0m \u001b[0margs\u001b[0m\u001b[0;34m,\u001b[0m \u001b[0mconstraints\u001b[0m\u001b[0;34m,\u001b[0m \u001b[0;34m**\u001b[0m\u001b[0moptions\u001b[0m\u001b[0;34m)\u001b[0m\u001b[0;34m\u001b[0m\u001b[0m\n",
      "\u001b[0;32m~/anaconda3/lib/python3.6/site-packages/scipy/optimize/tnc.py\u001b[0m in \u001b[0;36m_minimize_tnc\u001b[0;34m(fun, x0, args, jac, bounds, eps, scale, offset, mesg_num, maxCGit, maxiter, eta, stepmx, accuracy, minfev, ftol, xtol, gtol, rescale, disp, callback, **unknown_options)\u001b[0m\n\u001b[1;32m    346\u001b[0m     \u001b[0mpgtol\u001b[0m \u001b[0;34m=\u001b[0m \u001b[0mgtol\u001b[0m\u001b[0;34m\u001b[0m\u001b[0m\n\u001b[1;32m    347\u001b[0m \u001b[0;34m\u001b[0m\u001b[0m\n\u001b[0;32m--> 348\u001b[0;31m     \u001b[0mx0\u001b[0m \u001b[0;34m=\u001b[0m \u001b[0masfarray\u001b[0m\u001b[0;34m(\u001b[0m\u001b[0mx0\u001b[0m\u001b[0;34m)\u001b[0m\u001b[0;34m.\u001b[0m\u001b[0mflatten\u001b[0m\u001b[0;34m(\u001b[0m\u001b[0;34m)\u001b[0m\u001b[0;34m\u001b[0m\u001b[0m\n\u001b[0m\u001b[1;32m    349\u001b[0m     \u001b[0mn\u001b[0m \u001b[0;34m=\u001b[0m \u001b[0mlen\u001b[0m\u001b[0;34m(\u001b[0m\u001b[0mx0\u001b[0m\u001b[0;34m)\u001b[0m\u001b[0;34m\u001b[0m\u001b[0m\n\u001b[1;32m    350\u001b[0m \u001b[0;34m\u001b[0m\u001b[0m\n",
      "\u001b[0;32m~/anaconda3/lib/python3.6/site-packages/numpy/lib/type_check.py\u001b[0m in \u001b[0;36masfarray\u001b[0;34m(a, dtype)\u001b[0m\n\u001b[1;32m    101\u001b[0m     \u001b[0;32mif\u001b[0m \u001b[0;32mnot\u001b[0m \u001b[0m_nx\u001b[0m\u001b[0;34m.\u001b[0m\u001b[0missubdtype\u001b[0m\u001b[0;34m(\u001b[0m\u001b[0mdtype\u001b[0m\u001b[0;34m,\u001b[0m \u001b[0m_nx\u001b[0m\u001b[0;34m.\u001b[0m\u001b[0minexact\u001b[0m\u001b[0;34m)\u001b[0m\u001b[0;34m:\u001b[0m\u001b[0;34m\u001b[0m\u001b[0m\n\u001b[1;32m    102\u001b[0m         \u001b[0mdtype\u001b[0m \u001b[0;34m=\u001b[0m \u001b[0m_nx\u001b[0m\u001b[0;34m.\u001b[0m\u001b[0mfloat_\u001b[0m\u001b[0;34m\u001b[0m\u001b[0m\n\u001b[0;32m--> 103\u001b[0;31m     \u001b[0;32mreturn\u001b[0m \u001b[0masarray\u001b[0m\u001b[0;34m(\u001b[0m\u001b[0ma\u001b[0m\u001b[0;34m,\u001b[0m \u001b[0mdtype\u001b[0m\u001b[0;34m=\u001b[0m\u001b[0mdtype\u001b[0m\u001b[0;34m)\u001b[0m\u001b[0;34m\u001b[0m\u001b[0m\n\u001b[0m\u001b[1;32m    104\u001b[0m \u001b[0;34m\u001b[0m\u001b[0m\n\u001b[1;32m    105\u001b[0m \u001b[0;34m\u001b[0m\u001b[0m\n",
      "\u001b[0;32m~/anaconda3/lib/python3.6/site-packages/numpy/core/numeric.py\u001b[0m in \u001b[0;36masarray\u001b[0;34m(a, dtype, order)\u001b[0m\n\u001b[1;32m    490\u001b[0m \u001b[0;34m\u001b[0m\u001b[0m\n\u001b[1;32m    491\u001b[0m     \"\"\"\n\u001b[0;32m--> 492\u001b[0;31m     \u001b[0;32mreturn\u001b[0m \u001b[0marray\u001b[0m\u001b[0;34m(\u001b[0m\u001b[0ma\u001b[0m\u001b[0;34m,\u001b[0m \u001b[0mdtype\u001b[0m\u001b[0;34m,\u001b[0m \u001b[0mcopy\u001b[0m\u001b[0;34m=\u001b[0m\u001b[0;32mFalse\u001b[0m\u001b[0;34m,\u001b[0m \u001b[0morder\u001b[0m\u001b[0;34m=\u001b[0m\u001b[0morder\u001b[0m\u001b[0;34m)\u001b[0m\u001b[0;34m\u001b[0m\u001b[0m\n\u001b[0m\u001b[1;32m    493\u001b[0m \u001b[0;34m\u001b[0m\u001b[0m\n\u001b[1;32m    494\u001b[0m \u001b[0;34m\u001b[0m\u001b[0m\n",
      "\u001b[0;31mValueError\u001b[0m: setting an array element with a sequence."
     ]
    }
   ],
   "source": [
    "import scipy.optimize as op\n",
    "result= op.minimize(fun= costFunc, x0= initTheta, method= 'TNC', jac= gradient)\n",
    "result.x"
   ]
  }
 ],
 "metadata": {
  "kernelspec": {
   "display_name": "Python 3",
   "language": "python",
   "name": "python3"
  },
  "language_info": {
   "codemirror_mode": {
    "name": "ipython",
    "version": 3
   },
   "file_extension": ".py",
   "mimetype": "text/x-python",
   "name": "python",
   "nbconvert_exporter": "python",
   "pygments_lexer": "ipython3",
   "version": "3.6.5"
  }
 },
 "nbformat": 4,
 "nbformat_minor": 2
}
