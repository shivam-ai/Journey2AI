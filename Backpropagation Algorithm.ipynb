{
 "cells": [
  {
   "cell_type": "code",
   "execution_count": 1,
   "metadata": {},
   "outputs": [],
   "source": [
    "import numpy as np\n",
    "import pandas as pd\n",
    "import matplotlib.pyplot as plt"
   ]
  },
  {
   "cell_type": "code",
   "execution_count": 2,
   "metadata": {},
   "outputs": [
    {
     "name": "stdout",
     "output_type": "stream",
     "text": [
      "X (5000, 400)\n",
      "y (5000,)\n"
     ]
    }
   ],
   "source": [
    "X= np.loadtxt('Files/ex3data1.txt')\n",
    "y= np.loadtxt('Files/ex3datay.txt')\n",
    "print('X',X.shape)\n",
    "print('y',y.shape)"
   ]
  },
  {
   "cell_type": "code",
   "execution_count": 3,
   "metadata": {},
   "outputs": [
    {
     "name": "stdout",
     "output_type": "stream",
     "text": [
      "yy (5000, 10)\n"
     ]
    }
   ],
   "source": [
    "yy= pd.Series(y)\n",
    "yy= pd.get_dummies(yy)\n",
    "print(\"yy\",yy.shape)"
   ]
  },
  {
   "cell_type": "code",
   "execution_count": 4,
   "metadata": {},
   "outputs": [
    {
     "name": "stdout",
     "output_type": "stream",
     "text": [
      "Theta1 (25, 401)\n",
      "Theta2 (10, 26)\n"
     ]
    }
   ],
   "source": [
    "theta1= np.loadtxt('Files/ex3weights.txt')\n",
    "theta2= np.loadtxt('Files/ex3weights2.txt')\n",
    "theta= np.array([theta1, theta2])\n",
    "print('Theta1',theta1.shape)\n",
    "print('Theta2',theta2.shape)"
   ]
  },
  {
   "cell_type": "code",
   "execution_count": 5,
   "metadata": {},
   "outputs": [],
   "source": [
    "def sigmoid(z):\n",
    "    return 1.0 / (1.0 + np.exp(-z));"
   ]
  },
  {
   "cell_type": "code",
   "execution_count": 24,
   "metadata": {},
   "outputs": [],
   "source": [
    "def sigmoid_grad(z):\n",
    "    return sigmoid(z)* (1- sigmoid(z))"
   ]
  },
  {
   "cell_type": "code",
   "execution_count": 32,
   "metadata": {},
   "outputs": [],
   "source": [
    "def init_random():\n",
    "    lim= 0.12\n",
    "    theta1= np.random.uniform(-lim, lim, size= (25, 401))\n",
    "    theta2= np.random.uniform(-lim, lim, size= (10, 26))\n",
    "    return theta1, theta2"
   ]
  },
  {
   "cell_type": "code",
   "execution_count": 6,
   "metadata": {},
   "outputs": [],
   "source": [
    "def hyp(index, theta1, theta2):\n",
    "    x= X[index]\n",
    "    x= x[None].transpose()\n",
    "    \n",
    "    a1= np.insert(x, 0, 1, axis=0)\n",
    "    z2= np.dot(theta1, a1)\n",
    "    a2= sigmoid(z2)\n",
    "    \n",
    "    a2= np.insert(a2, 0, 1, axis=0)\n",
    "    z3= np.dot(theta2, a2)\n",
    "    a3= sigmoid(z3)\n",
    "    \n",
    "    return a3"
   ]
  },
  {
   "cell_type": "code",
   "execution_count": 7,
   "metadata": {},
   "outputs": [
    {
     "name": "stdout",
     "output_type": "stream",
     "text": [
      "hyp (10, 5000)\n"
     ]
    }
   ],
   "source": [
    "def hypa(theta1, theta2):\n",
    "    XX= X.transpose()\n",
    "    a1= np.insert(XX, 0, 1, axis=0)\n",
    "    \n",
    "    z2= np.dot(theta1, a1)\n",
    "    a2= sigmoid(z2)\n",
    "    \n",
    "    a2= np.insert(a2, 0, 1, axis=0)\n",
    "    z3= np.dot(theta2, a2)\n",
    "    a3= sigmoid(z3)\n",
    "    \n",
    "    return a3\n",
    "\n",
    "print('hyp',(hypa(theta1, theta2)).shape)"
   ]
  },
  {
   "cell_type": "code",
   "execution_count": 31,
   "metadata": {},
   "outputs": [
    {
     "data": {
      "text/plain": [
       "0.38376985909092365"
      ]
     },
     "execution_count": 31,
     "metadata": {},
     "output_type": "execute_result"
    }
   ],
   "source": [
    "def cost(theta1, theta2):\n",
    "    m= X.shape[0]\n",
    "    h= hypa(theta1, theta2)\n",
    "    t1= yy.transpose() * np.log(h)\n",
    "    t2= (1- yy.transpose()) * np.log(1- h)\n",
    "    t= t1+ t2\n",
    "    t= t.sum().sum() * -1\n",
    "    c= t/float(m)\n",
    "    #return c\n",
    "    \n",
    "    th1= theta1[:,1:]**2\n",
    "    th2= theta2[:,1:]**2\n",
    "    th= th1.sum().sum() + th2.sum().sum()\n",
    "    lembda= 1.0\n",
    "    regu= lembda * th / (2 * m)\n",
    "    \n",
    "    c= c + regu\n",
    "    return c\n",
    "    \n",
    "\n",
    "tr1, tr2= init_random()\n",
    "cost(theta1, theta2)"
   ]
  },
  {
   "cell_type": "code",
   "execution_count": 16,
   "metadata": {},
   "outputs": [
    {
     "data": {
      "text/plain": [
       "array([[-4.43215460e+01, -9.46753063e+07,  4.55758010e+08, ...,\n",
       "        -7.66107827e+04, -1.98343789e+05,  3.56551429e+08],\n",
       "       [-1.01645509e+01,  1.30519561e+08, -1.02472278e+08, ...,\n",
       "        -1.78528707e+04,  4.97658594e+06,  2.82148848e+08],\n",
       "       [ 8.60910800e+00, -1.13940057e+08,  1.22543348e+08, ...,\n",
       "        -8.26776601e+03, -4.27954573e+05, -1.33214666e+08],\n",
       "       ...,\n",
       "       [-5.45790043e+00, -1.12451526e+08, -1.01836302e+08, ...,\n",
       "         4.24969172e+04, -3.07234299e+05,  1.10803439e+08],\n",
       "       [-1.42430598e+00,  3.27677216e+09,  3.90531932e+08, ...,\n",
       "        -1.16041624e+03,  1.05993969e+04,  2.60578172e+08],\n",
       "       [-2.84954492e+00,  1.12882506e+08, -1.52087753e+09, ...,\n",
       "        -5.54428445e+05, -1.22780014e+05,  1.13706845e+08]])"
      ]
     },
     "execution_count": 16,
     "metadata": {},
     "output_type": "execute_result"
    }
   ],
   "source": [
    "def gradient(theta1, theta2):\n",
    "    delta1= theta1** -1\n",
    "    return delta1\n",
    "    \n",
    "gradient(theta1, theta2)"
   ]
  }
 ],
 "metadata": {
  "kernelspec": {
   "display_name": "Python 3",
   "language": "python",
   "name": "python3"
  },
  "language_info": {
   "codemirror_mode": {
    "name": "ipython",
    "version": 3
   },
   "file_extension": ".py",
   "mimetype": "text/x-python",
   "name": "python",
   "nbconvert_exporter": "python",
   "pygments_lexer": "ipython3",
   "version": "3.7.0"
  }
 },
 "nbformat": 4,
 "nbformat_minor": 2
}
