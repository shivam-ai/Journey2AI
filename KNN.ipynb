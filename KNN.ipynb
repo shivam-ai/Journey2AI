{
 "cells": [
  {
   "cell_type": "markdown",
   "metadata": {},
   "source": [
    "## K Nearest Neighbors"
   ]
  },
  {
   "cell_type": "code",
   "execution_count": 1,
   "metadata": {},
   "outputs": [],
   "source": [
    "import pandas as pd\n",
    "import matplotlib.pyplot as plt\n",
    "import numpy as np\n",
    "import math"
   ]
  },
  {
   "cell_type": "code",
   "execution_count": 2,
   "metadata": {},
   "outputs": [],
   "source": [
    "class KNN:\n",
    "    def __init__(self, k= 3):\n",
    "        self.k= k\n",
    "        \n",
    "    def fit(self, X_train, y_train):\n",
    "        self.X_train= X_train\n",
    "        self.y_train= y_train\n",
    "        self.m= self.X_train.shape[0]\n",
    "    \n",
    "    def euclidean(self, x1, x2):\n",
    "        sum= 0\n",
    "        for a,b in zip(x1, x2):\n",
    "            sum += (a - b)**2\n",
    "        return math.sqrt(sum)\n",
    "    \n",
    "    def predict(self, X_test):\n",
    "        distance= np.zeros(self.m)\n",
    "        for i in range(self.m):\n",
    "            distance[i]= self.euclidean(self.X_train[i], X_test)\n",
    "        ds= pd.DataFrame({'distance':distance, 'y':self.y_train})\n",
    "        ds= ds.sort_values(by='distance')\n",
    "        ds= ds.iloc[:self.k, :]\n",
    "        return ds['y'].value_counts().index[0]\n",
    "    \n",
    "    def predictall(self, X_test):\n",
    "        y_pred= np.zeros(X_test.shape[0])\n",
    "        for i in range(X_test.shape[0]):\n",
    "            y_pred[i]= self.predict(X_test[i])\n",
    "        return y_pred\n",
    "        \n",
    "    def accuracy(self, y_true, y_pred):\n",
    "        return sum(y_true==y_pred)/len(y_true)"
   ]
  },
  {
   "cell_type": "code",
   "execution_count": 4,
   "metadata": {},
   "outputs": [],
   "source": [
    "from sklearn.datasets import load_iris \n",
    "iris= load_iris()\n",
    "X= iris.data\n",
    "y= iris.target\n",
    "from sklearn.cross_validation import train_test_split\n",
    "X_train, X_test, y_train, y_test= train_test_split(X, y)"
   ]
  },
  {
   "cell_type": "code",
   "execution_count": 12,
   "metadata": {},
   "outputs": [
    {
     "name": "stdout",
     "output_type": "stream",
     "text": [
      "Model accuracy is 1.0\n"
     ]
    }
   ],
   "source": [
    "knn= KNN(k=7)\n",
    "knn.fit(X_train, y_train)\n",
    "y_pred= knn.predictall(X_test)\n",
    "print(\"Model accuracy is {}\".format(knn.accuracy(y_test, y_pred)))"
   ]
  },
  {
   "cell_type": "code",
   "execution_count": 13,
   "metadata": {},
   "outputs": [
    {
     "name": "stdout",
     "output_type": "stream",
     "text": [
      "Standard accuracy is 1.0\n"
     ]
    }
   ],
   "source": [
    "from sklearn.neighbors import KNeighborsClassifier\n",
    "kn= KNeighborsClassifier(n_neighbors=7)\n",
    "kn.fit(X_train, y_train)\n",
    "y_pred= kn.predict(X_test)\n",
    "print(\"Standard accuracy is {}\".format(sum(y_pred==y_test)/len(y_test)))"
   ]
  },
  {
   "cell_type": "markdown",
   "metadata": {},
   "source": [
    "## Done"
   ]
  }
 ],
 "metadata": {
  "kernelspec": {
   "display_name": "Python 3",
   "language": "python",
   "name": "python3"
  },
  "language_info": {
   "codemirror_mode": {
    "name": "ipython",
    "version": 3
   },
   "file_extension": ".py",
   "mimetype": "text/x-python",
   "name": "python",
   "nbconvert_exporter": "python",
   "pygments_lexer": "ipython3",
   "version": "3.7.0"
  }
 },
 "nbformat": 4,
 "nbformat_minor": 2
}
