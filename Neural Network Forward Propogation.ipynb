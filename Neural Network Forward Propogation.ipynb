{
 "cells": [
  {
   "cell_type": "markdown",
   "metadata": {},
   "source": [
    "## Neural Network Forword Propogation"
   ]
  },
  {
   "cell_type": "code",
   "execution_count": 1,
   "metadata": {},
   "outputs": [],
   "source": [
    "import pandas as pd\n",
    "import numpy as np\n",
    "import matplotlib.pyplot as plt\n",
    "% matplotlib inline"
   ]
  },
  {
   "cell_type": "code",
   "execution_count": 2,
   "metadata": {},
   "outputs": [],
   "source": [
    "X= np.loadtxt('Files/ex3data1.txt')\n",
    "y= np.loadtxt('Files/ex3datay.txt')"
   ]
  },
  {
   "cell_type": "code",
   "execution_count": 3,
   "metadata": {},
   "outputs": [],
   "source": [
    "theta1= np.loadtxt('Files/ex3weights.txt')\n",
    "theta2= np.loadtxt('Files/ex3weights2.txt')"
   ]
  },
  {
   "cell_type": "code",
   "execution_count": 4,
   "metadata": {},
   "outputs": [
    {
     "name": "stdout",
     "output_type": "stream",
     "text": [
      "(5000, 400)\n",
      "(25, 401)\n",
      "(10, 26)\n"
     ]
    }
   ],
   "source": [
    "print(X.shape)\n",
    "print(theta1.shape)\n",
    "print(theta2.shape)"
   ]
  },
  {
   "cell_type": "code",
   "execution_count": 5,
   "metadata": {},
   "outputs": [],
   "source": [
    "def display(index):\n",
    "    ex= X[index]\n",
    "    ex= ex.reshape((20,20)).transpose()\n",
    "    plt.imshow(ex, cmap= 'gray')"
   ]
  },
  {
   "cell_type": "code",
   "execution_count": 6,
   "metadata": {},
   "outputs": [],
   "source": [
    "def sigmoid(z):\n",
    "    return 1.0 / (1.0 + np.exp(-z));"
   ]
  },
  {
   "cell_type": "code",
   "execution_count": 7,
   "metadata": {},
   "outputs": [],
   "source": [
    "def predict(index, info=False):\n",
    "    x= X[index]\n",
    "    x= x[None].transpose()\n",
    "    a1= np.insert(x, 0, 1, axis=0)\n",
    "    z2= np.dot(theta1, a1)\n",
    "    a2= sigmoid(z2)\n",
    "    \n",
    "    a2= np.insert(a2, 0, 1, axis=0)\n",
    "    z3= np.dot(theta2, a2)\n",
    "    a3= sigmoid(z3)\n",
    "    \n",
    "    output= np.argmax(a3) + 1\n",
    "    \n",
    "    if(info):\n",
    "        #print(a3,'\\n')\n",
    "        print(\"True value is \",y[index])\n",
    "        print(\"Predicted value is \",output)\n",
    "        print(\"Probablity is \", max(a3))\n",
    "        display(index)\n",
    "    return output==y[index]"
   ]
  },
  {
   "cell_type": "code",
   "execution_count": 8,
   "metadata": {},
   "outputs": [
    {
     "name": "stdout",
     "output_type": "stream",
     "text": [
      "True value is  4.0\n",
      "Predicted value is  4\n",
      "Probablity is  [0.98940241]\n"
     ]
    },
    {
     "data": {
      "text/plain": [
       "True"
      ]
     },
     "execution_count": 8,
     "metadata": {},
     "output_type": "execute_result"
    },
    {
     "data": {
      "image/png": "[encoded data removed]",
      "text/plain": [
       "<Figure size 432x288 with 1 Axes>"
      ]
     },
     "metadata": {},
     "output_type": "display_data"
    }
   ],
   "source": [
    "predict(2400, info=True)"
   ]
  },
  {
   "cell_type": "code",
   "execution_count": 9,
   "metadata": {},
   "outputs": [
    {
     "name": "stdout",
     "output_type": "stream",
     "text": [
      "Accuracy is 97.52\n"
     ]
    }
   ],
   "source": [
    "counter= 0\n",
    "for i in range(len(X)):\n",
    "    if(predict(i)):\n",
    "        counter+=1\n",
    "print('Accuracy is {}'.format(counter*100.0/len(X)))"
   ]
  },
  {
   "cell_type": "markdown",
   "metadata": {},
   "source": [
    "## Done"
   ]
  }
 ],
 "metadata": {
  "kernelspec": {
   "display_name": "Python 3",
   "language": "python",
   "name": "python3"
  },
  "language_info": {
   "codemirror_mode": {
    "name": "ipython",
    "version": 3
   },
   "file_extension": ".py",
   "mimetype": "text/x-python",
   "name": "python",
   "nbconvert_exporter": "python",
   "pygments_lexer": "ipython3",
   "version": "3.6.5"
  }
 },
 "nbformat": 4,
 "nbformat_minor": 2
}
