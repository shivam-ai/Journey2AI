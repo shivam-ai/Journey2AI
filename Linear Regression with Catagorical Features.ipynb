{
 "cells": [
  {
   "cell_type": "markdown",
   "metadata": {},
   "source": [
    "## Linear Regression with Catagorical Features"
   ]
  },
  {
   "cell_type": "code",
   "execution_count": 2,
   "metadata": {},
   "outputs": [],
   "source": [
    "import numpy as np\n",
    "import pandas as pd\n",
    "import math\n",
    "import random\n",
    "import matplotlib.pyplot as plt\n",
    "from sklearn.cross_validation import train_test_split\n",
    "% matplotlib inline"
   ]
  },
  {
   "cell_type": "code",
   "execution_count": 3,
   "metadata": {},
   "outputs": [],
   "source": [
    "class LinearRegression:\n",
    "        \n",
    "    def hyp(self):\n",
    "        return np.dot(self.X, self.theta)\n",
    "        \n",
    "    def get_cost(self):\n",
    "        return sum((self.hyp() - self.y)**2) / (self.m * 2.0)\n",
    "    \n",
    "    def fscale(self):\n",
    "        self.X= self.X / (self.X.max(axis= 0) - self.X.min(axis= 0))\n",
    "        self.y= self.y / (max(self.y) - min(self.y))\n",
    "        \n",
    "    def computeStandard(self):\n",
    "        from sklearn.linear_model import LinearRegression\n",
    "        self.linreg= LinearRegression()\n",
    "        self.linreg.fit(self.X, self.y)\n",
    "\n",
    "    def makedummy(self, X, col):\n",
    "        dumm= pd.get_dummies(X[col], prefix=col)\n",
    "        X= pd.concat([X, dumm], axis=1)\n",
    "        X= X.drop(col, 1)\n",
    "        return X\n",
    "        \n",
    "        \n",
    "    def preprocess(self, X, y, alpha):\n",
    "        (self.m, self.n)= X.shape\n",
    "        self.columns= X.columns\n",
    "        self.X= X.values\n",
    "        self.y= y.values\n",
    "        self.fscale()\n",
    "        self.computeStandard()\n",
    "        self.n+=1\n",
    "        self.X= np.insert(self.X, 0, 1, axis= 1)\n",
    "        self.y= self.y[None].transpose()\n",
    "        self.alpha= alpha\n",
    "        self.theta= (np.ones(self.n)*10)[None].transpose()\n",
    "        \n",
    "    def plot(self):\n",
    "        plt.title(\"Contirbution of each feature in the output\")\n",
    "        colors = ['yellowgreen', 'violet',  'gold', 'lightskyblue', 'red', 'green', 'blue', 'lightcoral']\n",
    "        plt.pie(abs(self.theta), labels=self.columns.insert(0, 'Base'), autopct='%1.1f%%', colors= colors)\n",
    "        for i in range(1, self.n):\n",
    "            f= plt.figure()\n",
    "            ax = f.add_subplot(111)\n",
    "            yd= (max(self.X[:,i] * self.theta[i]) - min(self.X[:,i] * self.theta[i]))\n",
    "            yy= self.y* yd\n",
    "            offset= yd * self.theta[0]\n",
    "            ax.scatter(self.X[:,i], yy)\n",
    "            ax.plot([0,1.0], [offset, self.theta[i]+offset], 'g')\n",
    "            plt.ylabel('Effect on price')\n",
    "            plt.xlabel('{}'.format(self.columns[i-1]))\n",
    "        \n",
    "    def fit(self, X, y, alpha= 0.1, cat=None):\n",
    "        if cat is not None:\n",
    "            X= self.makedummy(X, cat)\n",
    "            #print(X.sample(10))\n",
    "            #print(X.columns)\n",
    "        self.preprocess(X, y, alpha)\n",
    "        pc= math.inf\n",
    "        change= 1\n",
    "        iteration=0\n",
    "        while(change>0.000000001):\n",
    "            der = (self.hyp() - self.y).transpose()\n",
    "            der = np.dot(der , self.X) * self.alpha / self.m\n",
    "            self.theta= self.theta - der.transpose()\n",
    "\n",
    "            self.cost= self.get_cost()\n",
    "            change= pc - self.cost\n",
    "            pc= self.cost\n",
    "            iteration += 1\n",
    "            if(iteration % 500 == 0):\n",
    "                print(\"{}. Cost: {}, theta: {}\".format(iteration, self.cost, self.theta.transpose()))\n",
    "        print(\"Optimization finished in {} iterations.\".format(iteration))\n",
    "        print('+'*70, \"\\nFinal Cost: {}, theta: {}\".format(self.cost, self.theta.transpose()))\n",
    "        print(\"sklearn: theta: \",self.linreg.intercept_, self.linreg.coef_,\"\\n\")\n",
    "        \n",
    "            \n",
    "    def predict(self, X):\n",
    "        X= X.values\n",
    "        X= X / (X.max(axis= 0) - X.min(axis= 0))\n",
    "        X= np.insert(X, 0, 1, axis= 1)\n",
    "        return np.dot(X, self.theta)\n",
    "    \n",
    "    def mse(self, y_true, y_pred):\n",
    "        y_true= y_true.values\n",
    "        y_true= y_true / (max(y_true) - min(y_true))\n",
    "        y_true= y_true[None].transpose()\n",
    "        return sum((y_true - y_pred)**2) / y_true.shape[0]\n",
    "    \n",
    "    def rmsq(self, y_true, y_pred):\n",
    "        return np.sqrt(self.mse(y_true, y_pred))"
   ]
  },
  {
   "cell_type": "markdown",
   "metadata": {},
   "source": [
    "### Soil Content Dataset"
   ]
  },
  {
   "cell_type": "markdown",
   "metadata": {},
   "source": [
    "* water\n",
    "* sand\n",
    "* silt\n",
    "* clay\n",
    "* gases\n",
    "* geoarea\n",
    "* organic_matter"
   ]
  },
  {
   "cell_type": "code",
   "execution_count": 4,
   "metadata": {},
   "outputs": [
    {
     "data": {
      "text/html": [
       "<div>\n",
       "<style scoped>\n",
       "    .dataframe tbody tr th:only-of-type {\n",
       "        vertical-align: middle;\n",
       "    }\n",
       "\n",
       "    .dataframe tbody tr th {\n",
       "        vertical-align: top;\n",
       "    }\n",
       "\n",
       "    .dataframe thead th {\n",
       "        text-align: right;\n",
       "    }\n",
       "</style>\n",
       "<table border=\"1\" class=\"dataframe\">\n",
       "  <thead>\n",
       "    <tr style=\"text-align: right;\">\n",
       "      <th></th>\n",
       "      <th>water</th>\n",
       "      <th>sand</th>\n",
       "      <th>silt</th>\n",
       "      <th>clay</th>\n",
       "      <th>gases</th>\n",
       "      <th>geoarea</th>\n",
       "      <th>organic_matter</th>\n",
       "      <th>value</th>\n",
       "    </tr>\n",
       "  </thead>\n",
       "  <tbody>\n",
       "    <tr>\n",
       "      <th>0</th>\n",
       "      <td>6</td>\n",
       "      <td>594</td>\n",
       "      <td>20</td>\n",
       "      <td>65</td>\n",
       "      <td>12</td>\n",
       "      <td>forest</td>\n",
       "      <td>46</td>\n",
       "      <td>2065.6</td>\n",
       "    </tr>\n",
       "    <tr>\n",
       "      <th>1</th>\n",
       "      <td>3</td>\n",
       "      <td>526</td>\n",
       "      <td>19</td>\n",
       "      <td>55</td>\n",
       "      <td>8</td>\n",
       "      <td>ice</td>\n",
       "      <td>20</td>\n",
       "      <td>1710.6</td>\n",
       "    </tr>\n",
       "  </tbody>\n",
       "</table>\n",
       "</div>"
      ],
      "text/plain": [
       "   water  sand  silt  clay  gases geoarea  organic_matter   value\n",
       "0      6   594    20    65     12  forest              46  2065.6\n",
       "1      3   526    19    55      8     ice              20  1710.6"
      ]
     },
     "execution_count": 4,
     "metadata": {},
     "output_type": "execute_result"
    }
   ],
   "source": [
    "m = 1800\n",
    "np.random.seed(42)\n",
    "\n",
    "water= np.random.randint(low= 0, high= 10, size= m)\n",
    "sand= np.random.randint(low= 100, high= 1300, size= m)\n",
    "silt= np.random.randint(low= 10, high= 25, size= m)\n",
    "clay= np.random.randint(low= 50, high= 100, size= m)\n",
    "gases= np.random.randint(low= 1, high= 15, size= m)\n",
    "organic_matter= np.random.randint(low= 12, high= 51, size= m)\n",
    "\n",
    "geo= ['ice', 'forest', 'city']\n",
    "geo_values= {'ice':24, 'forest':54, 'city':12}\n",
    "geoarea= ['ram']*m\n",
    "for i in range(m):\n",
    "    geoarea[i]= random.choice(geo)\n",
    "\n",
    "value= 5 * water + 2.5 * sand + 6.0 * silt + 2.2 * clay + 7.2 * gases + 3.2 * organic_matter \n",
    "for i in range(m):\n",
    "    value[i]+= geo_values.get(geoarea[i])\n",
    "    \n",
    "data= pd.DataFrame({'water':water, 'sand':sand, 'silt':silt, 'clay':clay, 'gases':gases, 'geoarea':geoarea, 'organic_matter':organic_matter, 'value':value})\n",
    "data.head(2)"
   ]
  },
  {
   "cell_type": "code",
   "execution_count": 5,
   "metadata": {},
   "outputs": [],
   "source": [
    "featue_cols= ['water', 'sand', 'silt', 'clay', 'gases', 'geoarea', 'organic_matter']\n",
    "target_col= 'value'\n",
    "X= data[featue_cols]\n",
    "y= data[target_col]\n",
    "X_train, X_test, y_train, y_test= train_test_split(X, y)"
   ]
  },
  {
   "cell_type": "code",
   "execution_count": 6,
   "metadata": {
    "scrolled": false
   },
   "outputs": [
    {
     "name": "stdout",
     "output_type": "stream",
     "text": [
      "500. Cost: [0.05339352], theta: [[-3.01171397 -0.17094987  0.62770333 -0.52629756 -0.78046458 -0.16878906\n",
      "  -0.34030722  5.67571088  5.64412462  5.66845053]]\n",
      "1000. Cost: [0.01038743], theta: [[-4.11579116 -0.08151544  0.77741343 -0.21539384 -0.30179591 -0.07215151\n",
      "  -0.14466426  5.29529971  5.29202433  5.2968848 ]]\n",
      "1500. Cost: [0.00203739], theta: [[-4.60447811 -0.02833584  0.86764327 -0.08073709 -0.11446985 -0.0156707\n",
      "  -0.04305147  5.12892358  5.13484428  5.13175404]]\n",
      "2000. Cost: [0.00039962], theta: [[-4.82090051e+00 -4.68773141e-03  9.07986233e-01 -2.10808621e-02\n",
      "  -3.18559138e-02  9.41404638e-03  2.17619914e-03  5.05526266e+00\n",
      "   5.06522354e+00  5.05861330e+00]]\n",
      "2500. Cost: [7.83818223e-05], theta: [[-4.91674933e+00  5.78641452e-03  9.25859414e-01  5.34042266e-03\n",
      "   4.72687706e-03  2.05233490e-02  2.22100250e-02  5.02264008e+00\n",
      "   5.03438990e+00  5.02622069e+00]]\n",
      "3000. Cost: [1.5373955e-05], theta: [[-4.95919876  0.01042521  0.93377517  0.01704187  0.02092855  0.02544341\n",
      "   0.03108264  5.00819223  5.02073433  5.01187468]]\n",
      "3500. Cost: [3.01547586e-06], theta: [[-4.97799873  0.01247963  0.93728089  0.0222242   0.02810393  0.0276224\n",
      "   0.03501214  5.00179358  5.01468657  5.00552113]]\n",
      "4000. Cost: [5.91460991e-07], theta: [[-4.98632483  0.01338949  0.9388335   0.02451934  0.03128175  0.02858743\n",
      "   0.03675243  4.99895975  5.01200814  5.00270728]]\n",
      "Optimization finished in 4202 iterations.\n",
      "++++++++++++++++++++++++++++++++++++++++++++++++++++++++++++++++++++++ \n",
      "Final Cost: [3.06284125e-07], theta: [[-4.98818065  0.01359229  0.93917957  0.02503091  0.03199006  0.02880253\n",
      "   0.03714032  4.99832811  5.01141114  5.00208009]]\n",
      "sklearn: theta:  0.009408517844822328 [ 0.01411278  0.94006774  0.02634385  0.03380794  0.02935458  0.03813586\n",
      " -0.00564511  0.00752681 -0.0018817 ] \n",
      "\n"
     ]
    }
   ],
   "source": [
    "linreg= LinearRegression()\n",
    "linreg.fit(X_train, y_train, cat='geoarea', alpha= 0.1)"
   ]
  },
  {
   "cell_type": "markdown",
   "metadata": {},
   "source": [
    "### Training data evaluaiton"
   ]
  },
  {
   "cell_type": "code",
   "execution_count": 7,
   "metadata": {
    "scrolled": true
   },
   "outputs": [
    {
     "name": "stdout",
     "output_type": "stream",
     "text": [
      "Training mse: [6.1256825e-07]\n"
     ]
    }
   ],
   "source": [
    "y_pred= linreg.predict(linreg.makedummy(X_train, col='geoarea'))\n",
    "mse= linreg.mse(y_train, y_pred)\n",
    "print(\"Training mse:\",mse)"
   ]
  },
  {
   "cell_type": "markdown",
   "metadata": {},
   "source": [
    "### Testing data evaluation"
   ]
  },
  {
   "cell_type": "code",
   "execution_count": 8,
   "metadata": {
    "scrolled": true
   },
   "outputs": [
    {
     "name": "stdout",
     "output_type": "stream",
     "text": [
      "Testing mse: [0.00065405]\n"
     ]
    }
   ],
   "source": [
    "y_pred= linreg.predict(linreg.makedummy(X_test, col='geoarea'))\n",
    "mse= linreg.mse(y_test, y_pred)\n",
    "print(\"Testing mse:\",mse)"
   ]
  },
  {
   "cell_type": "markdown",
   "metadata": {},
   "source": [
    "## DONE"
   ]
  }
 ],
 "metadata": {
  "kernelspec": {
   "display_name": "Python 3",
   "language": "python",
   "name": "python3"
  },
  "language_info": {
   "codemirror_mode": {
    "name": "ipython",
    "version": 3
   },
   "file_extension": ".py",
   "mimetype": "text/x-python",
   "name": "python",
   "nbconvert_exporter": "python",
   "pygments_lexer": "ipython3",
   "version": "3.6.5"
  }
 },
 "nbformat": 4,
 "nbformat_minor": 2
}
