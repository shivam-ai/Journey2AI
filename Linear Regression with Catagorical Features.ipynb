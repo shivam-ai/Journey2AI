{
 "cells": [
  {
   "cell_type": "markdown",
   "metadata": {},
   "source": [
    "## Linear Regression with Catagorical Features"
   ]
  },
  {
   "cell_type": "code",
   "execution_count": 6,
   "metadata": {},
   "outputs": [],
   "source": [
    "import numpy as np\n",
    "import pandas as pd\n",
    "import math\n",
    "import random\n",
    "import matplotlib.pyplot as plt\n",
    "from sklearn.cross_validation import train_test_split\n",
    "% matplotlib inline"
   ]
  },
  {
   "cell_type": "code",
   "execution_count": 7,
   "metadata": {},
   "outputs": [],
   "source": [
    "class LinearRegression:\n",
    "        \n",
    "    def hyp(self):\n",
    "        return np.dot(self.X, self.theta)\n",
    "        \n",
    "    def get_cost(self):\n",
    "        return sum((self.hyp() - self.y)**2) / (self.m * 2.0)\n",
    "    \n",
    "    def fscale(self):\n",
    "        self.X= self.X / (self.X.max(axis= 0) - self.X.min(axis= 0))\n",
    "        self.y= self.y / (max(self.y) - min(self.y))\n",
    "        \n",
    "    def computeStandard(self):\n",
    "        from sklearn.linear_model import LinearRegression\n",
    "        self.linreg= LinearRegression()\n",
    "        self.linreg.fit(self.X, self.y)\n",
    "\n",
    "    def makedummy(self, X, col):\n",
    "        dumm= pd.get_dummies(X[col], prefix=col)\n",
    "        X= pd.concat([X, dumm], axis=1)\n",
    "        X= X.drop(col, 1)\n",
    "        return X\n",
    "        \n",
    "        \n",
    "    def preprocess(self, X, y, alpha):\n",
    "        (self.m, self.n)= X.shape\n",
    "        self.columns= X.columns\n",
    "        self.X= X.values\n",
    "        self.y= y.values\n",
    "        #self.fscale()\n",
    "        self.computeStandard()\n",
    "        self.n+=1\n",
    "        self.X= np.insert(self.X, 0, 1, axis= 1)\n",
    "        self.y= self.y[None].transpose()\n",
    "        self.alpha= alpha\n",
    "        self.theta= (np.ones(self.n)*10)[None].transpose()\n",
    "        \n",
    "    def plot(self):\n",
    "        plt.title(\"Contirbution of each feature in the output\")\n",
    "        colors = ['yellowgreen', 'violet',  'gold', 'lightskyblue', 'red', 'green', 'blue', 'lightcoral']\n",
    "        plt.pie(abs(self.theta), labels=self.columns.insert(0, 'Base'), autopct='%1.1f%%', colors= colors)\n",
    "        for i in range(1, self.n):\n",
    "            f= plt.figure()\n",
    "            ax = f.add_subplot(111)\n",
    "            yd= (max(self.X[:,i] * self.theta[i]) - min(self.X[:,i] * self.theta[i]))\n",
    "            yy= self.y* yd\n",
    "            offset= yd * self.theta[0]\n",
    "            ax.scatter(self.X[:,i], yy)\n",
    "            ax.plot([0,1.0], [offset, self.theta[i]+offset], 'g')\n",
    "            plt.ylabel('Effect on price')\n",
    "            plt.xlabel('{}'.format(self.columns[i-1]))\n",
    "        \n",
    "    def fit(self, X, y, alpha= 0.1, cat=None):\n",
    "        if cat is not None:\n",
    "            X= self.makedummy(X, cat)\n",
    "            #print(X.sample(10))\n",
    "            #print(X.columns)\n",
    "        self.preprocess(X, y, alpha)\n",
    "        pc= math.inf\n",
    "        change= 1\n",
    "        iteration=0\n",
    "        while(change>0.000000001):\n",
    "            der = (self.hyp() - self.y).transpose()\n",
    "            der = np.dot(der , self.X) * self.alpha / self.m\n",
    "            self.theta= self.theta - der.transpose()\n",
    "\n",
    "            self.cost= self.get_cost()\n",
    "            change= pc - self.cost\n",
    "            pc= self.cost\n",
    "            iteration += 1\n",
    "            if(iteration % 500 == 0):\n",
    "                print(\"{}. Cost: {}, theta: {}\".format(iteration, self.cost, self.theta.transpose()))\n",
    "        print(\"Optimization finished in {} iterations.\".format(iteration))\n",
    "        print('+'*70, \"\\nFinal Cost: {}, theta: {}\".format(self.cost, self.theta.transpose()))\n",
    "        print(\"sklearn: theta: \",self.linreg.intercept_, self.linreg.coef_,\"\\n\")\n",
    "        \n",
    "            \n",
    "    def predict(self, X):\n",
    "        X= X.values\n",
    "        X= X / (X.max(axis= 0) - X.min(axis= 0))\n",
    "        X= np.insert(X, 0, 1, axis= 1)\n",
    "        return np.dot(X, self.theta)\n",
    "    \n",
    "    def mse(self, y_true, y_pred):\n",
    "        y_true= y_true.values\n",
    "        y_true= y_true / (max(y_true) - min(y_true))\n",
    "        y_true= y_true[None].transpose()\n",
    "        return sum((y_true - y_pred)**2) / y_true.shape[0]\n",
    "    \n",
    "    def rmsq(self, y_true, y_pred):\n",
    "        return np.sqrt(self.mse(y_true, y_pred))"
   ]
  },
  {
   "cell_type": "markdown",
   "metadata": {},
   "source": [
    "### Soil Content Dataset"
   ]
  },
  {
   "cell_type": "markdown",
   "metadata": {},
   "source": [
    "* water\n",
    "* sand\n",
    "* silt\n",
    "* clay\n",
    "* gases\n",
    "* geoarea\n",
    "* organic_matter"
   ]
  },
  {
   "cell_type": "code",
   "execution_count": 8,
   "metadata": {},
   "outputs": [
    {
     "data": {
      "text/html": [
       "<div>\n",
       "<style scoped>\n",
       "    .dataframe tbody tr th:only-of-type {\n",
       "        vertical-align: middle;\n",
       "    }\n",
       "\n",
       "    .dataframe tbody tr th {\n",
       "        vertical-align: top;\n",
       "    }\n",
       "\n",
       "    .dataframe thead th {\n",
       "        text-align: right;\n",
       "    }\n",
       "</style>\n",
       "<table border=\"1\" class=\"dataframe\">\n",
       "  <thead>\n",
       "    <tr style=\"text-align: right;\">\n",
       "      <th></th>\n",
       "      <th>water</th>\n",
       "      <th>sand</th>\n",
       "      <th>silt</th>\n",
       "      <th>clay</th>\n",
       "      <th>gases</th>\n",
       "      <th>geoarea</th>\n",
       "      <th>organic_matter</th>\n",
       "      <th>value</th>\n",
       "    </tr>\n",
       "  </thead>\n",
       "  <tbody>\n",
       "    <tr>\n",
       "      <th>0</th>\n",
       "      <td>6</td>\n",
       "      <td>594</td>\n",
       "      <td>20</td>\n",
       "      <td>65</td>\n",
       "      <td>12</td>\n",
       "      <td>forest</td>\n",
       "      <td>46</td>\n",
       "      <td>2065.6</td>\n",
       "    </tr>\n",
       "    <tr>\n",
       "      <th>1</th>\n",
       "      <td>3</td>\n",
       "      <td>526</td>\n",
       "      <td>19</td>\n",
       "      <td>55</td>\n",
       "      <td>8</td>\n",
       "      <td>ice</td>\n",
       "      <td>20</td>\n",
       "      <td>1710.6</td>\n",
       "    </tr>\n",
       "  </tbody>\n",
       "</table>\n",
       "</div>"
      ],
      "text/plain": [
       "   water  sand  silt  clay  gases geoarea  organic_matter   value\n",
       "0      6   594    20    65     12  forest              46  2065.6\n",
       "1      3   526    19    55      8     ice              20  1710.6"
      ]
     },
     "execution_count": 8,
     "metadata": {},
     "output_type": "execute_result"
    }
   ],
   "source": [
    "m = 1800\n",
    "np.random.seed(42)\n",
    "\n",
    "water= np.random.randint(low= 0, high= 10, size= m)\n",
    "sand= np.random.randint(low= 100, high= 1300, size= m)\n",
    "silt= np.random.randint(low= 10, high= 25, size= m)\n",
    "clay= np.random.randint(low= 50, high= 100, size= m)\n",
    "gases= np.random.randint(low= 1, high= 15, size= m)\n",
    "organic_matter= np.random.randint(low= 12, high= 51, size= m)\n",
    "\n",
    "geo= ['ice', 'forest', 'city']\n",
    "geo_values= {'ice':24, 'forest':54, 'city':12}\n",
    "geoarea= ['ram']*m\n",
    "for i in range(m):\n",
    "    geoarea[i]= random.choice(geo)\n",
    "\n",
    "value= 5 * water + 2.5 * sand + 6.0 * silt + 2.2 * clay + 7.2 * gases + 3.2 * organic_matter \n",
    "for i in range(m):\n",
    "    value[i]+= geo_values.get(geoarea[i])\n",
    "    \n",
    "data= pd.DataFrame({'water':water, 'sand':sand, 'silt':silt, 'clay':clay, 'gases':gases, 'geoarea':geoarea, 'organic_matter':organic_matter, 'value':value})\n",
    "data.head(2)"
   ]
  },
  {
   "cell_type": "code",
   "execution_count": 9,
   "metadata": {},
   "outputs": [],
   "source": [
    "featue_cols= ['water', 'sand', 'silt', 'clay', 'gases', 'geoarea', 'organic_matter']\n",
    "target_col= 'value'\n",
    "X= data[featue_cols]\n",
    "y= data[target_col]\n",
    "X_train, X_test, y_train, y_test= train_test_split(X, y)"
   ]
  },
  {
   "cell_type": "code",
   "execution_count": 10,
   "metadata": {
    "scrolled": false
   },
   "outputs": [
    {
     "name": "stdout",
     "output_type": "stream",
     "text": [
      "Optimization finished in 2 iterations.\n",
      "++++++++++++++++++++++++++++++++++++++++++++++++++++++++++++++++++++++ \n",
      "Final Cost: [3.42753077e+26], theta: [[3.77245882e+07 1.66578268e+08 3.29723134e+10 6.44157107e+08\n",
      "  2.80025187e+09 2.78498307e+08 1.15779172e+09 1.27703532e+07\n",
      "  1.17493945e+07 1.32048605e+07]]\n",
      "sklearn: theta:  30.00000000000182 [  5.    2.5   6.    2.2   7.2   3.2 -18.   24.   -6. ] \n",
      "\n"
     ]
    }
   ],
   "source": [
    "linreg= LinearRegression()\n",
    "linreg.fit(X_train, y_train, cat='geoarea', alpha= 0.1)"
   ]
  },
  {
   "cell_type": "markdown",
   "metadata": {},
   "source": [
    "### Training data evaluaiton"
   ]
  },
  {
   "cell_type": "code",
   "execution_count": 11,
   "metadata": {
    "scrolled": true
   },
   "outputs": [
    {
     "name": "stdout",
     "output_type": "stream",
     "text": [
      "Training mse: [7.51711435e+20]\n"
     ]
    }
   ],
   "source": [
    "y_pred= linreg.predict(linreg.makedummy(X_train, col='geoarea'))\n",
    "mse= linreg.mse(y_train, y_pred)\n",
    "print(\"Training mse:\",mse)"
   ]
  },
  {
   "cell_type": "markdown",
   "metadata": {},
   "source": [
    "### Testing data evaluation"
   ]
  },
  {
   "cell_type": "code",
   "execution_count": 12,
   "metadata": {
    "scrolled": true
   },
   "outputs": [
    {
     "name": "stdout",
     "output_type": "stream",
     "text": [
      "Testing mse: [7.5204814e+20]\n"
     ]
    }
   ],
   "source": [
    "y_pred= linreg.predict(linreg.makedummy(X_test, col='geoarea'))\n",
    "mse= linreg.mse(y_test, y_pred)\n",
    "print(\"Testing mse:\",mse)"
   ]
  },
  {
   "cell_type": "markdown",
   "metadata": {},
   "source": [
    "## DONE"
   ]
  }
 ],
 "metadata": {
  "kernelspec": {
   "display_name": "Python 3",
   "language": "python",
   "name": "python3"
  },
  "language_info": {
   "codemirror_mode": {
    "name": "ipython",
    "version": 3
   },
   "file_extension": ".py",
   "mimetype": "text/x-python",
   "name": "python",
   "nbconvert_exporter": "python",
   "pygments_lexer": "ipython3",
   "version": "3.6.5"
  }
 },
 "nbformat": 4,
 "nbformat_minor": 2
}
