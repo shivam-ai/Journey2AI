{
 "cells": [
  {
   "cell_type": "markdown",
   "metadata": {},
   "source": [
    "## Multivariate Linear Regression"
   ]
  },
  {
   "cell_type": "markdown",
   "metadata": {},
   "source": [
    "### Advertising Sales prediction"
   ]
  },
  {
   "cell_type": "code",
   "execution_count": 1,
   "metadata": {},
   "outputs": [],
   "source": [
    "import numpy as np\n",
    "import pandas as pd\n",
    "import matplotlib.pyplot as plt\n",
    "% matplotlib inline\n",
    "import seaborn as sns"
   ]
  },
  {
   "cell_type": "code",
   "execution_count": 9,
   "metadata": {},
   "outputs": [],
   "source": [
    "class LinearRegression:\n",
    "    def __init__(self):\n",
    "        self.min_change= 0.001\n",
    "        \n",
    "    def hyp(self, X, t):\n",
    "        return np.dot(X, t)\n",
    "        \n",
    "    def cost(self, t):\n",
    "        return sum((np.dot(self.X, t) - self.y)**2) / 2.0 * self.m\n",
    "    \n",
    "    #Not working properly\n",
    "    def fscale(self, arr):\n",
    "        if(arr.ndim == 1):\n",
    "            return arr / (max(arr) - min(arr))\n",
    "        else:\n",
    "            ans= np.ones(arr.shape)\n",
    "            n= arr.shape[1]\n",
    "            for i in range(n):\n",
    "                ans[:,i]= arr[:,i] / (max(arr[:,i]) - min(arr[:,i]))\n",
    "            return ans\n",
    "        \n",
    "    def fit(self, XX, yy, alpha= 0.0001):\n",
    "        (self.m, self.n)= XX.shape\n",
    "        self.alpha= alpha\n",
    "        self.X= XX.values\n",
    "        self.y= yy.values\n",
    "        self.X= self.fscale(XX.values)\n",
    "        self.y= self.fscale(yy.values)\n",
    "        self.t= np.ones(self.n)\n",
    "        self.c= self.cost(self.t)\n",
    "        change= self.min_change + 1\n",
    "        iteration= 0\n",
    "        while(change > self.min_change):\n",
    "            #======================================\n",
    "            hyp= np.dot(self.X, self.t)\n",
    "            ans= hyp - self.y\n",
    "            ans= np.dot(ans, self.X)\n",
    "            self.t= self.t - self.alpha * ans / self.m\n",
    "            cc= self.cost(self.t)\n",
    "            #======================================\n",
    "            change= self.c-cc\n",
    "            self.c= cc\n",
    "            if(iteration % 50 == 0):\n",
    "                print(\"{} Cost: {}, t: {}\".format(iteration, self.c, self.t))\n",
    "            iteration+= 1\n",
    "        print(\"\\nOptimization Finished\")\n",
    "        print(\"Final Cost: {}, t: {}\".format(self.c, self.t))\n",
    "            \n",
    "    def predict(self, X):\n",
    "        return self.hyp(X, self.t)\n",
    "    \n",
    "    def rmse(self, y_true, y_pred):\n",
    "        return np.sqrt(sum((y_true - y_pred)**2)/ y_true.shape[0])\n",
    "    "
   ]
  },
  {
   "cell_type": "markdown",
   "metadata": {},
   "source": [
    "### Demo Dataset"
   ]
  },
  {
   "cell_type": "code",
   "execution_count": 16,
   "metadata": {},
   "outputs": [],
   "source": [
    "X= pd.DataFrame({'TV':[11,21,23,16,10],'Radio':[2,3,2,1,4]})\n",
    "y= pd.Series([15,27,27,18,18])"
   ]
  },
  {
   "cell_type": "code",
   "execution_count": 17,
   "metadata": {},
   "outputs": [
    {
     "name": "stdout",
     "output_type": "stream",
     "text": [
      "0 Cost: 1.4957176186615029, t: [0.99898964 0.99910641]\n",
      "50 Cost: 0.9491071316262016, t: [0.9573294  0.96007193]\n",
      "100 Cost: 0.6664645147563357, t: [0.92948248 0.92990195]\n",
      "150 Cost: 0.516135230689569, t: [0.91135993 0.90605922]\n",
      "200 Cost: 0.43233362843435186, t: [0.90007274 0.88674899]\n",
      "\n",
      "Optimization Finished\n",
      "Final Cost: 0.4043394681448733, t: [0.89632884 0.87838076]\n"
     ]
    }
   ],
   "source": [
    "linreg= LinearRegression()\n",
    "linreg.fit(X, y, alpha= 0.003)"
   ]
  },
  {
   "cell_type": "code",
   "execution_count": null,
   "metadata": {},
   "outputs": [],
   "source": [
    "y_pred= linreg.predict(X)\n",
    "linreg.rmse(y, y_pred)"
   ]
  },
  {
   "cell_type": "markdown",
   "metadata": {},
   "source": [
    "### Advertising Dataset"
   ]
  },
  {
   "cell_type": "code",
   "execution_count": 10,
   "metadata": {},
   "outputs": [
    {
     "data": {
      "text/html": [
       "<div>\n",
       "<style scoped>\n",
       "    .dataframe tbody tr th:only-of-type {\n",
       "        vertical-align: middle;\n",
       "    }\n",
       "\n",
       "    .dataframe tbody tr th {\n",
       "        vertical-align: top;\n",
       "    }\n",
       "\n",
       "    .dataframe thead th {\n",
       "        text-align: right;\n",
       "    }\n",
       "</style>\n",
       "<table border=\"1\" class=\"dataframe\">\n",
       "  <thead>\n",
       "    <tr style=\"text-align: right;\">\n",
       "      <th></th>\n",
       "      <th>TV</th>\n",
       "      <th>Radio</th>\n",
       "      <th>Newspaper</th>\n",
       "      <th>Sales</th>\n",
       "    </tr>\n",
       "  </thead>\n",
       "  <tbody>\n",
       "    <tr>\n",
       "      <th>1</th>\n",
       "      <td>230.1</td>\n",
       "      <td>37.8</td>\n",
       "      <td>69.2</td>\n",
       "      <td>22.1</td>\n",
       "    </tr>\n",
       "    <tr>\n",
       "      <th>2</th>\n",
       "      <td>44.5</td>\n",
       "      <td>39.3</td>\n",
       "      <td>45.1</td>\n",
       "      <td>10.4</td>\n",
       "    </tr>\n",
       "    <tr>\n",
       "      <th>3</th>\n",
       "      <td>17.2</td>\n",
       "      <td>45.9</td>\n",
       "      <td>69.3</td>\n",
       "      <td>9.3</td>\n",
       "    </tr>\n",
       "    <tr>\n",
       "      <th>4</th>\n",
       "      <td>151.5</td>\n",
       "      <td>41.3</td>\n",
       "      <td>58.5</td>\n",
       "      <td>18.5</td>\n",
       "    </tr>\n",
       "    <tr>\n",
       "      <th>5</th>\n",
       "      <td>180.8</td>\n",
       "      <td>10.8</td>\n",
       "      <td>58.4</td>\n",
       "      <td>12.9</td>\n",
       "    </tr>\n",
       "  </tbody>\n",
       "</table>\n",
       "</div>"
      ],
      "text/plain": [
       "      TV  Radio  Newspaper  Sales\n",
       "1  230.1   37.8       69.2   22.1\n",
       "2   44.5   39.3       45.1   10.4\n",
       "3   17.2   45.9       69.3    9.3\n",
       "4  151.5   41.3       58.5   18.5\n",
       "5  180.8   10.8       58.4   12.9"
      ]
     },
     "execution_count": 10,
     "metadata": {},
     "output_type": "execute_result"
    }
   ],
   "source": [
    "data= pd.read_csv('Files/Advertising.csv', index_col= 0)\n",
    "data.head()"
   ]
  },
  {
   "cell_type": "code",
   "execution_count": 11,
   "metadata": {},
   "outputs": [],
   "source": [
    "#sns.pairplot(data)"
   ]
  },
  {
   "cell_type": "code",
   "execution_count": 12,
   "metadata": {},
   "outputs": [],
   "source": [
    "feature_cols= ['TV', 'Radio', 'Newspaper']\n",
    "#feature_cols= ['TV', 'Radio']\n",
    "target_col= 'Sales'\n",
    "X= data[feature_cols]\n",
    "y= data[target_col]"
   ]
  },
  {
   "cell_type": "markdown",
   "metadata": {},
   "source": [
    "#### Train Test Split"
   ]
  },
  {
   "cell_type": "code",
   "execution_count": 13,
   "metadata": {},
   "outputs": [],
   "source": [
    "num_train= int(X.shape[0] * .7)\n",
    "X_train= X.loc[:num_train, :]\n",
    "y_train= y[:num_train]\n",
    "X_test= X.loc[num_train:, :]\n",
    "y_test= y[num_train-1:]"
   ]
  },
  {
   "cell_type": "code",
   "execution_count": 14,
   "metadata": {},
   "outputs": [
    {
     "name": "stdout",
     "output_type": "stream",
     "text": [
      "(140, 3)\n",
      "(140,)\n",
      "(61, 3)\n",
      "(61,)\n"
     ]
    }
   ],
   "source": [
    "print(X_train.shape)\n",
    "print(y_train.shape)\n",
    "print(X_test.shape)\n",
    "print(y_test.shape)"
   ]
  },
  {
   "cell_type": "code",
   "execution_count": 15,
   "metadata": {},
   "outputs": [
    {
     "name": "stdout",
     "output_type": "stream",
     "text": [
      "0 Cost: 3737.6858078499904, t: [0.8897958  0.87573029 0.92630561]\n",
      "50 Cost: 117.43367962382635, t: [0.59722612 0.34682447 0.40898996]\n",
      "100 Cost: 88.36064540224064, t: [0.65114168 0.36920587 0.27425225]\n",
      "150 Cost: 78.87615047246743, t: [0.66883512 0.39526167 0.19592542]\n",
      "200 Cost: 75.38289083195032, t: [0.67544639 0.41473071 0.14890918]\n",
      "250 Cost: 74.06062930224346, t: [0.67833584 0.42768606 0.12025243]\n",
      "300 Cost: 73.55730921300301, t: [0.67979014 0.43594331 0.10266225]\n",
      "350 Cost: 73.36550284047165, t: [0.68059688 0.44111286 0.09183035]\n",
      "\n",
      "Optimization Finished\n",
      "Final Cost: 73.29791806437579, t: [0.68102497 0.44401507 0.08579248]\n"
     ]
    }
   ],
   "source": [
    "linreg= LinearRegression()\n",
    "linreg.fit(X_train, y_train, alpha= 0.3)"
   ]
  },
  {
   "cell_type": "markdown",
   "metadata": {},
   "source": [
    "#### On training Data"
   ]
  },
  {
   "cell_type": "code",
   "execution_count": null,
   "metadata": {},
   "outputs": [],
   "source": [
    "y_pred= linreg.predict(X_train)\n",
    "linreg.rmse(y_train.values, y_pred)"
   ]
  },
  {
   "cell_type": "markdown",
   "metadata": {},
   "source": [
    "#### On Testing Data"
   ]
  },
  {
   "cell_type": "code",
   "execution_count": null,
   "metadata": {},
   "outputs": [],
   "source": [
    "y_pred= linreg.predict(X_test)\n",
    "linreg.rmse(y_test.values, y_pred)"
   ]
  },
  {
   "cell_type": "markdown",
   "metadata": {},
   "source": [
    "#### Training on Entire dataset"
   ]
  },
  {
   "cell_type": "code",
   "execution_count": null,
   "metadata": {},
   "outputs": [],
   "source": [
    "linreg= LinearRegression()\n",
    "linreg.fit(X, y, alpha= 0.3)"
   ]
  },
  {
   "cell_type": "markdown",
   "metadata": {},
   "source": [
    "### DONE"
   ]
  },
  {
   "cell_type": "code",
   "execution_count": null,
   "metadata": {},
   "outputs": [],
   "source": [
    "class LinearRegression2:\n",
    "    def __init__(self):\n",
    "        self.min_change= 0.001\n",
    "        \n",
    "    def hyp(self, X, t):\n",
    "        return np.dot(X, t)\n",
    "        \n",
    "    def cost(self, t):\n",
    "        return sum((np.dot(self.X, t) - self.y)**2) / 2.0 * self.m\n",
    "    \n",
    "    #Not working properly\n",
    "    def fscale(self, arr):\n",
    "        if(arr.ndim == 1):\n",
    "            return arr / (max(arr) - min(arr))\n",
    "        else:\n",
    "            ans= np.ones(arr.shape)\n",
    "            n= arr.shape[1]\n",
    "            for i in range(n):\n",
    "                ans[:,i]= arr[:,i] / (max(arr[:,i]) - min(arr[:,i]))\n",
    "            return ans\n",
    "        \n",
    "    def fit(self, XX, yy, alpha= 0.0001):\n",
    "        (self.m, self.n)= XX.shape\n",
    "        self.alpha= alpha\n",
    "        self.X= XX.values\n",
    "        self.y= yy.values\n",
    "        self.X= self.fscale(XX.values)\n",
    "        self.y= self.fscale(yy.values)\n",
    "        self.t= np.ones(self.n)\n",
    "        self.c= self.cost(self.t)\n",
    "        change= self.min_change + 1\n",
    "        iteration= 0\n",
    "        while(change > self.min_change):\n",
    "            tt= np.copy(self.t)\n",
    "            for i in range(self.n):\n",
    "                hyp= np.dot(self.X, self.t)\n",
    "                ans= hyp - self.y\n",
    "                ans= np.dot(ans, self.X[:,i])\n",
    "                tt[i]= self.t[i] - self.alpha * (1.0/ self.m) * ans\n",
    "            self.t= np.copy(tt)\n",
    "            cc= self.cost(self.t)\n",
    "            change= self.c-cc\n",
    "            self.c= cc\n",
    "            if(iteration % 50 == 0):\n",
    "                print(\"{} Cost: {}, t: {}\".format(iteration, self.c, self.t))\n",
    "            iteration+= 1\n",
    "        print(\"\\nOptimization Finished\")\n",
    "        print(\"Final Cost: {}, t: {}\".format(self.c, self.t))\n",
    "            \n",
    "    def predict(self, X):\n",
    "        return self.hyp(X, self.t)\n",
    "    \n",
    "    def rmse(self, y_true, y_pred):\n",
    "        return np.sqrt(sum((y_true - y_pred)**2)/ y_true.shape[0])\n",
    "    "
   ]
  }
 ],
 "metadata": {
  "kernelspec": {
   "display_name": "Python 3",
   "language": "python",
   "name": "python3"
  },
  "language_info": {
   "codemirror_mode": {
    "name": "ipython",
    "version": 3
   },
   "file_extension": ".py",
   "mimetype": "text/x-python",
   "name": "python",
   "nbconvert_exporter": "python",
   "pygments_lexer": "ipython3",
   "version": "3.6.5"
  }
 },
 "nbformat": 4,
 "nbformat_minor": 2
}
