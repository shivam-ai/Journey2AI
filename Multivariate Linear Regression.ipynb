{
 "cells": [
  {
   "cell_type": "markdown",
   "metadata": {},
   "source": [
    "## Multivariate Linear Regression"
   ]
  },
  {
   "cell_type": "code",
   "execution_count": 49,
   "metadata": {},
   "outputs": [],
   "source": [
    "import numpy as np\n",
    "import pandas as pd\n",
    "import math"
   ]
  },
  {
   "cell_type": "code",
   "execution_count": 132,
   "metadata": {},
   "outputs": [],
   "source": [
    "class LinearRegression:\n",
    "        \n",
    "    def hyp(self):\n",
    "        return np.dot(self.X, self.theta)\n",
    "        \n",
    "    def get_cost(self):\n",
    "        return sum((self.hyp() - self.y)**2) / (self.m * 2.0)\n",
    "    \n",
    "    def fscale(self):\n",
    "        self.X= self.X / (self.X.max(axis= 0) - self.X.min(axis= 0))\n",
    "        self.y= self.y / (max(self.y) - min(self.y))\n",
    "        \n",
    "    def computeStandard(self):\n",
    "        from sklearn.linear_model import LinearRegression\n",
    "        self.linreg= LinearRegression()\n",
    "        self.linreg.fit(self.X, self.y)\n",
    "\n",
    "    def preprocess(self, X, y, alpha):\n",
    "        (self.m, self.n)= X.shape\n",
    "        self.X= X.values\n",
    "        self.y= y.values\n",
    "        self.fscale()\n",
    "        self.computeStandard()\n",
    "        self.n+=1\n",
    "        self.X= np.insert(self.X, 0, 1, axis= 1)\n",
    "        self.y= self.y[None].transpose()\n",
    "        self.alpha= alpha\n",
    "        self.theta= (np.ones(self.n)*10)[None].transpose()\n",
    "        \n",
    "    def fit(self, X, y, alpha= 0.1):\n",
    "        self.preprocess(X, y, alpha)\n",
    "        pc= math.inf\n",
    "        change= 1\n",
    "        iteration=0\n",
    "        while(change>0.000000000001):\n",
    "            der = (self.hyp() - self.y).transpose()\n",
    "            der = np.dot(der , self.X) * self.alpha / self.m\n",
    "            self.theta= self.theta - der.transpose()\n",
    "\n",
    "            self.cost= self.get_cost()\n",
    "            change= pc - self.cost\n",
    "            pc= self.cost\n",
    "            iteration += 1\n",
    "            if(iteration % 500 == 0):\n",
    "                print(\"{}. Cost: {}, theta: {}\".format(iteration, self.cost, self.theta.transpose()))\n",
    "        print('+'*70, \"\\n{}. Final Cost: {}, theta: {}\".format(iteration, self.cost, self.theta.transpose()))\n",
    "        print(\"sklearn: theta: \",self.linreg.intercept_, self.linreg.coef_,\"\\n\")\n",
    "        \n",
    "            \n",
    "    def predict(self, X):\n",
    "        return None\n",
    "    \n",
    "    "
   ]
  },
  {
   "cell_type": "markdown",
   "metadata": {},
   "source": [
    "### Demo Dataset"
   ]
  },
  {
   "cell_type": "code",
   "execution_count": 133,
   "metadata": {},
   "outputs": [],
   "source": [
    "np.random.seed(42)\n",
    "a= np.random.randint(1, 25, 5)\n",
    "b= np.random.randint(100, 1000, 5)\n",
    "c= 11 + 2 * a + 5 * b\n",
    "data= pd.DataFrame({\"TV\":a, \"Radio\":b, \"Sales\":c})\n",
    "X= data[['TV','Radio']]\n",
    "y= data['Sales']"
   ]
  },
  {
   "cell_type": "code",
   "execution_count": 134,
   "metadata": {},
   "outputs": [
    {
     "name": "stdout",
     "output_type": "stream",
     "text": [
      "500. Cost: [6.98846339e-06], theta: [[-0.01530652  0.0193483   1.01781089]]\n",
      "1000. Cost: [5.08362949e-09], theta: [[0.00275946 0.00801999 1.00797853]]\n",
      "++++++++++++++++++++++++++++++++++++++++++++++++++++++++++++++++++++++ \n",
      "1298. Final Cost: [6.85175838e-11], theta: [[0.00320209 0.00774244 1.00773763]]\n",
      "sklearn: theta:  0.003260225251926596 [0.00770599 1.00770599] \n",
      "\n"
     ]
    }
   ],
   "source": [
    "linreg= LinearRegression()\n",
    "linreg.fit(X, y, alpha= 0.3)"
   ]
  },
  {
   "cell_type": "markdown",
   "metadata": {},
   "source": [
    "### Advertising Dataset"
   ]
  },
  {
   "cell_type": "code",
   "execution_count": 135,
   "metadata": {},
   "outputs": [],
   "source": [
    "data= pd.read_csv('Files/Advertising.csv', index_col= 0)\n",
    "feature_cols= ['TV', 'Radio', 'Newspaper']\n",
    "target_col= 'Sales'\n",
    "X= data[feature_cols]\n",
    "y= data[target_col]"
   ]
  },
  {
   "cell_type": "code",
   "execution_count": 137,
   "metadata": {},
   "outputs": [
    {
     "name": "stdout",
     "output_type": "stream",
     "text": [
      "500. Cost: [0.0021577], theta: [[ 0.11568268  0.53278042  0.36810195 -0.00447804]]\n",
      "++++++++++++++++++++++++++++++++++++++++++++++++++++++++++++++++++++++ \n",
      "572. Final Cost: [0.0021577], theta: [[ 0.11569944  0.5327799   0.36814158 -0.00460679]]\n",
      "sklearn: theta:  0.11570430588422892 [ 0.53277975  0.3681531  -0.00464421] \n",
      "\n"
     ]
    }
   ],
   "source": [
    "linreg= LinearRegression()\n",
    "linreg.fit(X, y, alpha= 0.7)"
   ]
  },
  {
   "cell_type": "code",
   "execution_count": null,
   "metadata": {},
   "outputs": [],
   "source": []
  }
 ],
 "metadata": {
  "kernelspec": {
   "display_name": "Python 3",
   "language": "python",
   "name": "python3"
  },
  "language_info": {
   "codemirror_mode": {
    "name": "ipython",
    "version": 3
   },
   "file_extension": ".py",
   "mimetype": "text/x-python",
   "name": "python",
   "nbconvert_exporter": "python",
   "pygments_lexer": "ipython3",
   "version": "3.6.5"
  }
 },
 "nbformat": 4,
 "nbformat_minor": 2
}
