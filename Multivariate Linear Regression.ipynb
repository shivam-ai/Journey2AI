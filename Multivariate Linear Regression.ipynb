{
 "cells": [
  {
   "cell_type": "markdown",
   "metadata": {},
   "source": [
    "## Multivariate Linear Regression"
   ]
  },
  {
   "cell_type": "markdown",
   "metadata": {},
   "source": [
    "### Advertising Sales prediction"
   ]
  },
  {
   "cell_type": "code",
   "execution_count": 1,
   "metadata": {},
   "outputs": [],
   "source": [
    "import numpy as np\n",
    "import pandas as pd\n",
    "import matplotlib.pyplot as plt\n",
    "% matplotlib inline\n",
    "import seaborn as sns"
   ]
  },
  {
   "cell_type": "code",
   "execution_count": 2,
   "metadata": {},
   "outputs": [],
   "source": [
    "class LinearRegression:\n",
    "    def __init__(self):\n",
    "        self.min_change= 0.001\n",
    "        \n",
    "    def hyp(self, X, t):\n",
    "        return np.dot(X, t)\n",
    "        \n",
    "    def cost(self, t):\n",
    "        return sum((np.dot(self.X, t) - self.y)**2) / 2.0 * self.m\n",
    "    \n",
    "    #Not working properly\n",
    "    def fscale(self, arr):\n",
    "        if(arr.ndim == 1):\n",
    "            return arr / (max(arr) - min(arr))\n",
    "        else:\n",
    "            ans= np.ones(arr.shape)\n",
    "            n= arr.shape[1]\n",
    "            for i in range(n):\n",
    "                ans[:,i]= arr[:,i] / (max(arr[:,i]) - min(arr[:,i]))\n",
    "            return ans\n",
    "        \n",
    "    def fit(self, XX, yy, alpha= 0.0001):\n",
    "        (self.m, self.n)= XX.shape\n",
    "        self.alpha= alpha\n",
    "        self.X= XX.values\n",
    "        self.y= yy.values\n",
    "        self.X= self.fscale(XX.values)\n",
    "        self.y= self.fscale(yy.values)\n",
    "        self.t= np.ones(self.n)\n",
    "        self.c= self.cost(self.t)\n",
    "        change= self.min_change + 1\n",
    "        iteration= 0\n",
    "        while(change > self.min_change):\n",
    "            #======================================\n",
    "            hyp= np.dot(self.X, self.t)\n",
    "            ans= hyp - self.y\n",
    "            ans= np.dot(ans, self.X)\n",
    "            self.t= self.t - self.alpha * ans / self.m\n",
    "            cc= self.cost(self.t)\n",
    "            #======================================\n",
    "            change= self.c-cc\n",
    "            self.c= cc\n",
    "            if(iteration % 50 == 0):\n",
    "                print(\"{} Cost: {}, t: {}\".format(iteration, self.c, self.t))\n",
    "            iteration+= 1\n",
    "        print(\"\\nOptimization Finished\")\n",
    "        print(\"Final Cost: {}, t: {}\".format(self.c, self.t))\n",
    "            \n",
    "    def predict(self, X):\n",
    "        return self.hyp(X, self.t)\n",
    "    \n",
    "    def rmse(self, y_true, y_pred):\n",
    "        return np.sqrt(sum((y_true - y_pred)**2)/ y_true.shape[0])\n",
    "    "
   ]
  },
  {
   "cell_type": "markdown",
   "metadata": {},
   "source": [
    "### Demo Dataset"
   ]
  },
  {
   "cell_type": "code",
   "execution_count": 3,
   "metadata": {},
   "outputs": [
    {
     "data": {
      "text/html": [
       "<div>\n",
       "<style scoped>\n",
       "    .dataframe tbody tr th:only-of-type {\n",
       "        vertical-align: middle;\n",
       "    }\n",
       "\n",
       "    .dataframe tbody tr th {\n",
       "        vertical-align: top;\n",
       "    }\n",
       "\n",
       "    .dataframe thead th {\n",
       "        text-align: right;\n",
       "    }\n",
       "</style>\n",
       "<table border=\"1\" class=\"dataframe\">\n",
       "  <thead>\n",
       "    <tr style=\"text-align: right;\">\n",
       "      <th></th>\n",
       "      <th>TV</th>\n",
       "      <th>Radio</th>\n",
       "      <th>Sales</th>\n",
       "    </tr>\n",
       "  </thead>\n",
       "  <tbody>\n",
       "    <tr>\n",
       "      <th>0</th>\n",
       "      <td>11</td>\n",
       "      <td>970</td>\n",
       "      <td>4872</td>\n",
       "    </tr>\n",
       "    <tr>\n",
       "      <th>1</th>\n",
       "      <td>18</td>\n",
       "      <td>803</td>\n",
       "      <td>4051</td>\n",
       "    </tr>\n",
       "  </tbody>\n",
       "</table>\n",
       "</div>"
      ],
      "text/plain": [
       "   TV  Radio  Sales\n",
       "0  11    970   4872\n",
       "1  18    803   4051"
      ]
     },
     "execution_count": 3,
     "metadata": {},
     "output_type": "execute_result"
    }
   ],
   "source": [
    "a= np.random.randint(1, 25, 500)\n",
    "b= np.random.randint(100, 1000, 500)\n",
    "c= 2 * a + 5 * b\n",
    "data= pd.DataFrame({\"TV\":a, \"Radio\":b, \"Sales\":c})\n",
    "X= data[['TV','Radio']]\n",
    "y= data['Sales']\n",
    "data.head(2)"
   ]
  },
  {
   "cell_type": "code",
   "execution_count": 4,
   "metadata": {},
   "outputs": [
    {
     "data": {
      "text/plain": [
       "array([2., 5.])"
      ]
     },
     "execution_count": 4,
     "metadata": {},
     "output_type": "execute_result"
    }
   ],
   "source": [
    "from sklearn.linear_model import LinearRegression as LR\n",
    "lr= LR()\n",
    "lr.fit(X, y)\n",
    "lr.coef_"
   ]
  },
  {
   "cell_type": "code",
   "execution_count": 5,
   "metadata": {},
   "outputs": [
    {
     "name": "stdout",
     "output_type": "stream",
     "text": [
      "0 Cost: 44935.087040842125, t: [0.98870821 0.9901338 ]\n",
      "50 Cost: 8580.904337874863, t: [0.6305687  0.72214455]\n",
      "100 Cost: 3949.504365875801, t: [0.47791151 0.67064447]\n",
      "150 Cost: 2758.186998154108, t: [0.39553302 0.68387827]\n",
      "200 Cost: 2084.9789513045316, t: [0.33975972 0.71403058]\n",
      "250 Cost: 1593.7509334638112, t: [0.29615179 0.74633179]\n",
      "300 Cost: 1220.073913677814, t: [0.25964813 0.77648171]\n",
      "350 Cost: 934.1952726236966, t: [0.228233   0.80346479]\n",
      "400 Cost: 715.3203276185956, t: [0.20091122 0.82726759]\n",
      "450 Cost: 547.7280423433021, t: [0.17705685 0.84815713]\n",
      "500 Cost: 419.40111982366443, t: [0.15620016 0.86645591]\n",
      "550 Cost: 321.1398658460159, t: [0.13795497 0.88247443]\n",
      "600 Cost: 245.90018813654632, t: [0.12199126 0.89649338]\n",
      "650 Cost: 188.28837220530278, t: [0.10802279 0.90876128]\n",
      "700 Cost: 144.17439604832884, t: [0.09579987 0.91949649]\n",
      "750 Cost: 110.39585839972656, t: [0.08510427 0.92889039]\n",
      "800 Cost: 84.53127521864299, t: [0.07574512 0.93711053]\n",
      "850 Cost: 64.72649059187877, t: [0.06755541 0.94430356]\n",
      "900 Cost: 49.56175774592838, t: [0.06038901 0.95059781]\n",
      "950 Cost: 37.949961575304485, t: [0.05411807 0.95610559]\n",
      "1000 Cost: 29.058686557286187, t: [0.04863068 0.96092517]\n",
      "1050 Cost: 22.250543330829025, t: [0.04382895 0.96514254]\n",
      "1100 Cost: 17.0374761275284, t: [0.03962721 0.96883294]\n",
      "1150 Cost: 13.045775488723224, t: [0.03595047 0.97206223]\n",
      "1200 Cost: 9.989288133304125, t: [0.03273315 0.97488801]\n",
      "1250 Cost: 7.648903470431746, t: [0.02991783 0.9773607 ]\n",
      "1300 Cost: 5.856846205579665, t: [0.0274543  0.97952443]\n",
      "1350 Cost: 4.484649023015669, t: [0.02529858 0.9814178 ]\n",
      "1400 Cost: 3.4339431416989608, t: [0.02341222 0.98307459]\n",
      "1450 Cost: 2.6294065466222976, t: [0.02176157 0.98452436]\n",
      "1500 Cost: 2.0133643750432175, t: [0.02031716 0.98579299]\n",
      "1550 Cost: 1.5416543751669882, t: [0.01905324 0.98690309]\n",
      "1600 Cost: 1.1804610441766086, t: [0.01794725 0.98787449]\n",
      "1650 Cost: 0.9038914942706456, t: [0.01697945 0.98872451]\n",
      "1700 Cost: 0.6921192676753606, t: [0.01613257 0.98946832]\n",
      "1750 Cost: 0.5299630361872191, t: [0.01539152 0.99011919]\n",
      "1800 Cost: 0.4057982963949639, t: [0.01474306 0.99068873]\n",
      "1850 Cost: 0.31072404321209446, t: [0.01417563 0.99118711]\n",
      "1900 Cost: 0.2379246829959472, t: [0.0136791  0.99162321]\n",
      "\n",
      "Optimization Finished\n",
      "Final Cost: 0.18611396782383946, t: [0.01327727 0.99197614]\n"
     ]
    }
   ],
   "source": [
    "linreg= LinearRegression()\n",
    "linreg.fit(X, y, alpha= 0.03)"
   ]
  },
  {
   "cell_type": "markdown",
   "metadata": {},
   "source": [
    "### Advertising Dataset"
   ]
  },
  {
   "cell_type": "code",
   "execution_count": 6,
   "metadata": {},
   "outputs": [
    {
     "data": {
      "text/html": [
       "<div>\n",
       "<style scoped>\n",
       "    .dataframe tbody tr th:only-of-type {\n",
       "        vertical-align: middle;\n",
       "    }\n",
       "\n",
       "    .dataframe tbody tr th {\n",
       "        vertical-align: top;\n",
       "    }\n",
       "\n",
       "    .dataframe thead th {\n",
       "        text-align: right;\n",
       "    }\n",
       "</style>\n",
       "<table border=\"1\" class=\"dataframe\">\n",
       "  <thead>\n",
       "    <tr style=\"text-align: right;\">\n",
       "      <th></th>\n",
       "      <th>TV</th>\n",
       "      <th>Radio</th>\n",
       "      <th>Newspaper</th>\n",
       "      <th>Sales</th>\n",
       "    </tr>\n",
       "  </thead>\n",
       "  <tbody>\n",
       "    <tr>\n",
       "      <th>1</th>\n",
       "      <td>230.1</td>\n",
       "      <td>37.8</td>\n",
       "      <td>69.2</td>\n",
       "      <td>22.1</td>\n",
       "    </tr>\n",
       "    <tr>\n",
       "      <th>2</th>\n",
       "      <td>44.5</td>\n",
       "      <td>39.3</td>\n",
       "      <td>45.1</td>\n",
       "      <td>10.4</td>\n",
       "    </tr>\n",
       "    <tr>\n",
       "      <th>3</th>\n",
       "      <td>17.2</td>\n",
       "      <td>45.9</td>\n",
       "      <td>69.3</td>\n",
       "      <td>9.3</td>\n",
       "    </tr>\n",
       "    <tr>\n",
       "      <th>4</th>\n",
       "      <td>151.5</td>\n",
       "      <td>41.3</td>\n",
       "      <td>58.5</td>\n",
       "      <td>18.5</td>\n",
       "    </tr>\n",
       "    <tr>\n",
       "      <th>5</th>\n",
       "      <td>180.8</td>\n",
       "      <td>10.8</td>\n",
       "      <td>58.4</td>\n",
       "      <td>12.9</td>\n",
       "    </tr>\n",
       "  </tbody>\n",
       "</table>\n",
       "</div>"
      ],
      "text/plain": [
       "      TV  Radio  Newspaper  Sales\n",
       "1  230.1   37.8       69.2   22.1\n",
       "2   44.5   39.3       45.1   10.4\n",
       "3   17.2   45.9       69.3    9.3\n",
       "4  151.5   41.3       58.5   18.5\n",
       "5  180.8   10.8       58.4   12.9"
      ]
     },
     "execution_count": 6,
     "metadata": {},
     "output_type": "execute_result"
    }
   ],
   "source": [
    "data= pd.read_csv('Files/Advertising.csv', index_col= 0)\n",
    "data.head()"
   ]
  },
  {
   "cell_type": "code",
   "execution_count": 7,
   "metadata": {},
   "outputs": [],
   "source": [
    "#sns.pairplot(data)"
   ]
  },
  {
   "cell_type": "code",
   "execution_count": 8,
   "metadata": {},
   "outputs": [],
   "source": [
    "feature_cols= ['TV', 'Radio', 'Newspaper']\n",
    "#feature_cols= ['TV', 'Radio']\n",
    "target_col= 'Sales'\n",
    "X= data[feature_cols]\n",
    "y= data[target_col]"
   ]
  },
  {
   "cell_type": "code",
   "execution_count": 9,
   "metadata": {},
   "outputs": [
    {
     "data": {
      "text/plain": [
       "array([ 0.04576465,  0.18853002, -0.00103749])"
      ]
     },
     "execution_count": 9,
     "metadata": {},
     "output_type": "execute_result"
    }
   ],
   "source": [
    "from sklearn.linear_model import LinearRegression as LR\n",
    "lr= LR()\n",
    "lr.fit(X, y)\n",
    "lr.coef_"
   ]
  },
  {
   "cell_type": "markdown",
   "metadata": {},
   "source": [
    "#### Train Test Split"
   ]
  },
  {
   "cell_type": "code",
   "execution_count": null,
   "metadata": {},
   "outputs": [],
   "source": [
    "num_train= int(X.shape[0] * .7)\n",
    "X_train= X.loc[:num_train, :]\n",
    "y_train= y[:num_train]\n",
    "X_test= X.loc[num_train:, :]\n",
    "y_test= y[num_train-1:]"
   ]
  },
  {
   "cell_type": "code",
   "execution_count": null,
   "metadata": {},
   "outputs": [],
   "source": [
    "print(X_train.shape)\n",
    "print(y_train.shape)\n",
    "print(X_test.shape)\n",
    "print(y_test.shape)"
   ]
  },
  {
   "cell_type": "code",
   "execution_count": null,
   "metadata": {},
   "outputs": [],
   "source": [
    "linreg= LinearRegression()\n",
    "linreg.fit(X_train, y_train, alpha= 0.3)"
   ]
  },
  {
   "cell_type": "markdown",
   "metadata": {},
   "source": [
    "#### On training Data"
   ]
  },
  {
   "cell_type": "code",
   "execution_count": null,
   "metadata": {},
   "outputs": [],
   "source": [
    "y_pred= linreg.predict(X_train)\n",
    "linreg.rmse(y_train.values, y_pred)"
   ]
  },
  {
   "cell_type": "markdown",
   "metadata": {},
   "source": [
    "#### On Testing Data"
   ]
  },
  {
   "cell_type": "code",
   "execution_count": null,
   "metadata": {},
   "outputs": [],
   "source": [
    "y_pred= linreg.predict(X_test)\n",
    "linreg.rmse(y_test.values, y_pred)"
   ]
  },
  {
   "cell_type": "markdown",
   "metadata": {},
   "source": [
    "#### Training on Entire dataset"
   ]
  },
  {
   "cell_type": "code",
   "execution_count": 10,
   "metadata": {},
   "outputs": [
    {
     "name": "stdout",
     "output_type": "stream",
     "text": [
      "0 Cost: 7921.016551212844, t: [0.88451573 0.88024931 0.92967039]\n",
      "50 Cost: 216.68076926979057, t: [0.53181317 0.34009803 0.42526708]\n",
      "100 Cost: 158.91764144638222, t: [0.58546072 0.35786645 0.29145985]\n",
      "150 Cost: 138.5389882882741, t: [0.60574556 0.38122521 0.21043355]\n",
      "200 Cost: 130.6213319228243, t: [0.61476237 0.39935572 0.16023829]\n",
      "250 Cost: 127.48115594481844, t: [0.6193985  0.41174582 0.12881488]\n",
      "300 Cost: 126.23064834368935, t: [0.62203095 0.41983146 0.10904997]\n",
      "350 Cost: 125.73226205868333, t: [0.62361085 0.42500977 0.0965919 ]\n",
      "400 Cost: 125.53360059906184, t: [0.62458544 0.42829963 0.0887321 ]\n",
      "\n",
      "Optimization Finished\n",
      "Final Cost: 125.45538437056165, t: [0.62518477 0.43034945 0.0838498 ]\n"
     ]
    }
   ],
   "source": [
    "linreg= LinearRegression()\n",
    "linreg.fit(X, y, alpha= 0.3)"
   ]
  },
  {
   "cell_type": "markdown",
   "metadata": {},
   "source": [
    "### DONE"
   ]
  },
  {
   "cell_type": "code",
   "execution_count": null,
   "metadata": {},
   "outputs": [],
   "source": [
    "class LinearRegression2:\n",
    "    def __init__(self):\n",
    "        self.min_change= 0.001\n",
    "        \n",
    "    def hyp(self, X, t):\n",
    "        return np.dot(X, t)\n",
    "        \n",
    "    def cost(self, t):\n",
    "        return sum((np.dot(self.X, t) - self.y)**2) / 2.0 * self.m\n",
    "    \n",
    "    #Not working properly\n",
    "    def fscale(self, arr):\n",
    "        if(arr.ndim == 1):\n",
    "            return arr / (max(arr) - min(arr))\n",
    "        else:\n",
    "            ans= np.ones(arr.shape)\n",
    "            n= arr.shape[1]\n",
    "            for i in range(n):\n",
    "                ans[:,i]= arr[:,i] / (max(arr[:,i]) - min(arr[:,i]))\n",
    "            return ans\n",
    "        \n",
    "    def fit(self, XX, yy, alpha= 0.0001):\n",
    "        (self.m, self.n)= XX.shape\n",
    "        self.alpha= alpha\n",
    "        self.X= XX.values\n",
    "        self.y= yy.values\n",
    "        self.X= self.fscale(XX.values)\n",
    "        self.y= self.fscale(yy.values)\n",
    "        self.t= np.ones(self.n)\n",
    "        self.c= self.cost(self.t)\n",
    "        change= self.min_change + 1\n",
    "        iteration= 0\n",
    "        while(change > self.min_change):\n",
    "            tt= np.copy(self.t)\n",
    "            for i in range(self.n):\n",
    "                hyp= np.dot(self.X, self.t)\n",
    "                ans= hyp - self.y\n",
    "                ans= np.dot(ans, self.X[:,i])\n",
    "                tt[i]= self.t[i] - self.alpha * (1.0/ self.m) * ans\n",
    "            self.t= np.copy(tt)\n",
    "            cc= self.cost(self.t)\n",
    "            change= self.c-cc\n",
    "            self.c= cc\n",
    "            if(iteration % 50 == 0):\n",
    "                print(\"{} Cost: {}, t: {}\".format(iteration, self.c, self.t))\n",
    "            iteration+= 1\n",
    "        print(\"\\nOptimization Finished\")\n",
    "        print(\"Final Cost: {}, t: {}\".format(self.c, self.t))\n",
    "            \n",
    "    def predict(self, X):\n",
    "        return self.hyp(X, self.t)\n",
    "    \n",
    "    def rmse(self, y_true, y_pred):\n",
    "        return np.sqrt(sum((y_true - y_pred)**2)/ y_true.shape[0])\n",
    "    "
   ]
  },
  {
   "cell_type": "code",
   "execution_count": 19,
   "metadata": {},
   "outputs": [
    {
     "name": "stdout",
     "output_type": "stream",
     "text": [
      "[[1 2 3]\n",
      " [4 5 6]]\n"
     ]
    }
   ],
   "source": [
    "a= np.array([[1,2,3],[4,5,6]])\n",
    "print(a)"
   ]
  },
  {
   "cell_type": "code",
   "execution_count": 20,
   "metadata": {},
   "outputs": [
    {
     "name": "stdout",
     "output_type": "stream",
     "text": [
      "[[1 1 2 3]\n",
      " [1 4 5 6]]\n"
     ]
    }
   ],
   "source": [
    "a= np.insert(a, 0, 1, axis= 1)\n",
    "print(a)"
   ]
  },
  {
   "cell_type": "code",
   "execution_count": null,
   "metadata": {},
   "outputs": [],
   "source": []
  }
 ],
 "metadata": {
  "kernelspec": {
   "display_name": "Python 3",
   "language": "python",
   "name": "python3"
  },
  "language_info": {
   "codemirror_mode": {
    "name": "ipython",
    "version": 3
   },
   "file_extension": ".py",
   "mimetype": "text/x-python",
   "name": "python",
   "nbconvert_exporter": "python",
   "pygments_lexer": "ipython3",
   "version": "3.6.5"
  }
 },
 "nbformat": 4,
 "nbformat_minor": 2
}
