{
  "nbformat": 4,
  "nbformat_minor": 0,
  "metadata": {
    "colab": {
      "name": "DiffSeriesPredictionWithRNN",
      "version": "0.3.2",
      "provenance": [],
      "collapsed_sections": [],
      "include_colab_link": true
    },
    "kernelspec": {
      "name": "python3",
      "display_name": "Python 3"
    }
  },
  "cells": [
    {
      "cell_type": "markdown",
      "metadata": {
        "id": "view-in-github",
        "colab_type": "text"
      },
      "source": [
        "<a href=\"https://colab.research.google.com/github/shivampip/Journey2AI/blob/master/DiffSeriesPredictionWithRNN.ipynb\" target=\"_parent\"><img src=\"https://colab.research.google.com/assets/colab-badge.svg\" alt=\"Open In Colab\"/></a>"
      ]
    },
    {
      "cell_type": "code",
      "metadata": {
        "id": "117GCfNKR-vP",
        "colab_type": "code",
        "colab": {}
      },
      "source": [
        "import numpy as np\n",
        "import matplotlib.pyplot as plt"
      ],
      "execution_count": 0,
      "outputs": []
    },
    {
      "cell_type": "code",
      "metadata": {
        "id": "jaM2-m0A7Pde",
        "colab_type": "code",
        "colab": {}
      },
      "source": [
        "def fibo(n, db={}):\n",
        "    if(n<=1):\n",
        "        db[n]= 1\n",
        "        return 1,db\n",
        "    if(n in db):\n",
        "        return db[n],db\n",
        "    a, db= fibo(n-2, db)\n",
        "    b, db= fibo(n-1, db)     \n",
        "    db[n]= a+b\n",
        "    return db[n], db"
      ],
      "execution_count": 0,
      "outputs": []
    },
    {
      "cell_type": "code",
      "metadata": {
        "id": "0RjF9IGbM1OL",
        "colab_type": "code",
        "colab": {
          "base_uri": "https://localhost:8080/",
          "height": 286
        },
        "outputId": "e8536438-653b-4a53-e7f9-840d88479fac"
      },
      "source": [
        "n= 100\n",
        "#data= list(fibo(n)[1].values())\n",
        "#data= range(25)\n",
        "#data= [np.sin(a/10) for a in range(180)]\n",
        "#data= [(a**2 + a) for a in range(200)]\n",
        "#data= [-2*a for a in range(200)]\n",
        "data= [np.sin(a/10) for a in range(80)]\n",
        "data= np.array(data)\n",
        "data= np.reshape(data,(len(data), 1))\n",
        "plt.plot(data)"
      ],
      "execution_count": 286,
      "outputs": [
        {
          "output_type": "execute_result",
          "data": {
            "text/plain": [
              "[<matplotlib.lines.Line2D at 0x7fc683e58e10>]"
            ]
          },
          "metadata": {
            "tags": []
          },
          "execution_count": 286
        },
        {
          "output_type": "display_data",
          "data": {
            "image/png": "[encoded data removed]",
            "text/plain": [
              "<Figure size 432x288 with 1 Axes>"
            ]
          },
          "metadata": {
            "tags": []
          }
        }
      ]
    },
    {
      "cell_type": "code",
      "metadata": {
        "id": "37M95ZmHRpDe",
        "colab_type": "code",
        "colab": {
          "base_uri": "https://localhost:8080/",
          "height": 34
        },
        "outputId": "c698faa1-e7b0-495f-c8dd-c7177929ba88"
      },
      "source": [
        "data.shape"
      ],
      "execution_count": 287,
      "outputs": [
        {
          "output_type": "execute_result",
          "data": {
            "text/plain": [
              "(80, 1)"
            ]
          },
          "metadata": {
            "tags": []
          },
          "execution_count": 287
        }
      ]
    },
    {
      "cell_type": "code",
      "metadata": {
        "id": "JbAf5Xd5SGmj",
        "colab_type": "code",
        "colab": {}
      },
      "source": [
        "from tensorflow import keras\n",
        "from sklearn.preprocessing import MinMaxScaler\n",
        "from sklearn.metrics import mean_squared_error\n",
        "np.random.seed(42)"
      ],
      "execution_count": 0,
      "outputs": []
    },
    {
      "cell_type": "code",
      "metadata": {
        "id": "3uh7UyBKSKqN",
        "colab_type": "code",
        "colab": {}
      },
      "source": [
        "data= data.astype(np.float32)"
      ],
      "execution_count": 0,
      "outputs": []
    },
    {
      "cell_type": "code",
      "metadata": {
        "id": "fbbSkH9NSRF1",
        "colab_type": "code",
        "colab": {
          "base_uri": "https://localhost:8080/",
          "height": 34
        },
        "outputId": "55b55bf3-13d1-473b-999e-dd81e582ac96"
      },
      "source": [
        "scaler= MinMaxScaler(feature_range=(0,1))\n",
        "data= scaler.fit_transform(data)\n",
        "data.shape"
      ],
      "execution_count": 290,
      "outputs": [
        {
          "output_type": "execute_result",
          "data": {
            "text/plain": [
              "(80, 1)"
            ]
          },
          "metadata": {
            "tags": []
          },
          "execution_count": 290
        }
      ]
    },
    {
      "cell_type": "code",
      "metadata": {
        "id": "uBgtL0xPScKs",
        "colab_type": "code",
        "colab": {
          "base_uri": "https://localhost:8080/",
          "height": 50
        },
        "outputId": "c1a7a541-cb16-4bfe-c428-c29f6b2fbbe1"
      },
      "source": [
        "train_size= int(len(data)*0.67)\n",
        "test_size= len(data)- train_size\n",
        "X_train, X_test= data[:train_size, :], data[train_size:, :]\n",
        "print(X_train.shape)\n",
        "print(X_test.shape)"
      ],
      "execution_count": 291,
      "outputs": [
        {
          "output_type": "stream",
          "text": [
            "(53, 1)\n",
            "(27, 1)\n"
          ],
          "name": "stdout"
        }
      ]
    },
    {
      "cell_type": "code",
      "metadata": {
        "id": "Buowg4L8SyZD",
        "colab_type": "code",
        "colab": {}
      },
      "source": [
        "#  Dataset creation\n",
        "def create_dataset(dataset, look_back= 1):\n",
        "    dataX, dataY= [], []\n",
        "    for i in range(len(dataset)- look_back - 1):\n",
        "        a= dataset[i: (i+look_back), 0]\n",
        "        dataX.append(a)\n",
        "        b= dataset[(i+ look_back): (i+ look_back+ 1), 0]\n",
        "        dataY.append(b)\n",
        "    return np.array(dataX), np.array(dataY)"
      ],
      "execution_count": 0,
      "outputs": []
    },
    {
      "cell_type": "code",
      "metadata": {
        "id": "cTzSF136S6g-",
        "colab_type": "code",
        "colab": {}
      },
      "source": [
        "look_back= 1\n",
        "X_train, y_train= create_dataset(X_train, look_back)\n",
        "X_test, y_test= create_dataset(X_test, look_back)"
      ],
      "execution_count": 0,
      "outputs": []
    },
    {
      "cell_type": "code",
      "metadata": {
        "id": "PhpBiQLmS9Hq",
        "colab_type": "code",
        "colab": {}
      },
      "source": [
        "X_train= np.reshape(X_train, (X_train.shape[0], 1, X_train.shape[1]))\n",
        "X_test= np.reshape(X_test, (X_test.shape[0], 1, X_test.shape[1]))"
      ],
      "execution_count": 0,
      "outputs": []
    },
    {
      "cell_type": "code",
      "metadata": {
        "id": "N1zDweL6TBDV",
        "colab_type": "code",
        "colab": {
          "base_uri": "https://localhost:8080/",
          "height": 3394
        },
        "outputId": "4bf67b4c-abcd-4143-9c1e-143947881b3c"
      },
      "source": [
        "# LSTM model creation\n",
        "model= keras.Sequential()\n",
        "model.add(keras.layers.LSTM(4, input_shape=(1, look_back)))\n",
        "model.add(keras.layers.Dense(1))\n",
        "\n",
        "model.compile(loss= 'mean_squared_error', optimizer= 'adam')\n",
        "\n",
        "model.fit(X_train, y_train, epochs= 100, batch_size= 1, verbose= 2)"
      ],
      "execution_count": 295,
      "outputs": [
        {
          "output_type": "stream",
          "text": [
            "Epoch 1/100\n",
            "51/51 - 2s - loss: 0.2837\n",
            "Epoch 2/100\n",
            "51/51 - 0s - loss: 0.1929\n",
            "Epoch 3/100\n",
            "51/51 - 0s - loss: 0.1304\n",
            "Epoch 4/100\n",
            "51/51 - 0s - loss: 0.0883\n",
            "Epoch 5/100\n",
            "51/51 - 0s - loss: 0.0648\n",
            "Epoch 6/100\n",
            "51/51 - 0s - loss: 0.0502\n",
            "Epoch 7/100\n",
            "51/51 - 0s - loss: 0.0422\n",
            "Epoch 8/100\n",
            "51/51 - 0s - loss: 0.0371\n",
            "Epoch 9/100\n",
            "51/51 - 0s - loss: 0.0336\n",
            "Epoch 10/100\n",
            "51/51 - 0s - loss: 0.0302\n",
            "Epoch 11/100\n",
            "51/51 - 0s - loss: 0.0271\n",
            "Epoch 12/100\n",
            "51/51 - 0s - loss: 0.0242\n",
            "Epoch 13/100\n",
            "51/51 - 0s - loss: 0.0215\n",
            "Epoch 14/100\n",
            "51/51 - 0s - loss: 0.0189\n",
            "Epoch 15/100\n",
            "51/51 - 0s - loss: 0.0166\n",
            "Epoch 16/100\n",
            "51/51 - 0s - loss: 0.0143\n",
            "Epoch 17/100\n",
            "51/51 - 0s - loss: 0.0122\n",
            "Epoch 18/100\n",
            "51/51 - 0s - loss: 0.0104\n",
            "Epoch 19/100\n",
            "51/51 - 0s - loss: 0.0087\n",
            "Epoch 20/100\n",
            "51/51 - 0s - loss: 0.0073\n",
            "Epoch 21/100\n",
            "51/51 - 0s - loss: 0.0061\n",
            "Epoch 22/100\n",
            "51/51 - 0s - loss: 0.0050\n",
            "Epoch 23/100\n",
            "51/51 - 0s - loss: 0.0042\n",
            "Epoch 24/100\n",
            "51/51 - 0s - loss: 0.0035\n",
            "Epoch 25/100\n",
            "51/51 - 0s - loss: 0.0029\n",
            "Epoch 26/100\n",
            "51/51 - 0s - loss: 0.0024\n",
            "Epoch 27/100\n",
            "51/51 - 0s - loss: 0.0020\n",
            "Epoch 28/100\n",
            "51/51 - 0s - loss: 0.0017\n",
            "Epoch 29/100\n",
            "51/51 - 0s - loss: 0.0015\n",
            "Epoch 30/100\n",
            "51/51 - 0s - loss: 0.0014\n",
            "Epoch 31/100\n",
            "51/51 - 0s - loss: 0.0013\n",
            "Epoch 32/100\n",
            "51/51 - 0s - loss: 0.0012\n",
            "Epoch 33/100\n",
            "51/51 - 0s - loss: 0.0011\n",
            "Epoch 34/100\n",
            "51/51 - 0s - loss: 0.0011\n",
            "Epoch 35/100\n",
            "51/51 - 0s - loss: 0.0011\n",
            "Epoch 36/100\n",
            "51/51 - 0s - loss: 0.0011\n",
            "Epoch 37/100\n",
            "51/51 - 0s - loss: 0.0010\n",
            "Epoch 38/100\n",
            "51/51 - 0s - loss: 0.0010\n",
            "Epoch 39/100\n",
            "51/51 - 0s - loss: 0.0010\n",
            "Epoch 40/100\n",
            "51/51 - 0s - loss: 0.0011\n",
            "Epoch 41/100\n",
            "51/51 - 0s - loss: 0.0011\n",
            "Epoch 42/100\n",
            "51/51 - 0s - loss: 0.0010\n",
            "Epoch 43/100\n",
            "51/51 - 0s - loss: 0.0011\n",
            "Epoch 44/100\n",
            "51/51 - 0s - loss: 9.9200e-04\n",
            "Epoch 45/100\n",
            "51/51 - 0s - loss: 0.0010\n",
            "Epoch 46/100\n",
            "51/51 - 0s - loss: 0.0011\n",
            "Epoch 47/100\n",
            "51/51 - 0s - loss: 0.0010\n",
            "Epoch 48/100\n",
            "51/51 - 0s - loss: 0.0010\n",
            "Epoch 49/100\n",
            "51/51 - 0s - loss: 0.0010\n",
            "Epoch 50/100\n",
            "51/51 - 0s - loss: 0.0010\n",
            "Epoch 51/100\n",
            "51/51 - 0s - loss: 0.0010\n",
            "Epoch 52/100\n",
            "51/51 - 0s - loss: 0.0010\n",
            "Epoch 53/100\n",
            "51/51 - 0s - loss: 0.0010\n",
            "Epoch 54/100\n",
            "51/51 - 0s - loss: 0.0010\n",
            "Epoch 55/100\n",
            "51/51 - 0s - loss: 0.0010\n",
            "Epoch 56/100\n",
            "51/51 - 0s - loss: 9.8819e-04\n",
            "Epoch 57/100\n",
            "51/51 - 0s - loss: 0.0011\n",
            "Epoch 58/100\n",
            "51/51 - 0s - loss: 9.9712e-04\n",
            "Epoch 59/100\n",
            "51/51 - 0s - loss: 0.0010\n",
            "Epoch 60/100\n",
            "51/51 - 0s - loss: 0.0010\n",
            "Epoch 61/100\n",
            "51/51 - 0s - loss: 0.0010\n",
            "Epoch 62/100\n",
            "51/51 - 0s - loss: 0.0010\n",
            "Epoch 63/100\n",
            "51/51 - 0s - loss: 0.0011\n",
            "Epoch 64/100\n",
            "51/51 - 0s - loss: 0.0010\n",
            "Epoch 65/100\n",
            "51/51 - 0s - loss: 0.0010\n",
            "Epoch 66/100\n",
            "51/51 - 0s - loss: 9.9775e-04\n",
            "Epoch 67/100\n",
            "51/51 - 0s - loss: 0.0010\n",
            "Epoch 68/100\n",
            "51/51 - 0s - loss: 0.0011\n",
            "Epoch 69/100\n",
            "51/51 - 0s - loss: 9.9645e-04\n",
            "Epoch 70/100\n",
            "51/51 - 0s - loss: 0.0010\n",
            "Epoch 71/100\n",
            "51/51 - 0s - loss: 0.0011\n",
            "Epoch 72/100\n",
            "51/51 - 0s - loss: 0.0011\n",
            "Epoch 73/100\n",
            "51/51 - 0s - loss: 9.8667e-04\n",
            "Epoch 74/100\n",
            "51/51 - 0s - loss: 9.9786e-04\n",
            "Epoch 75/100\n",
            "51/51 - 0s - loss: 0.0011\n",
            "Epoch 76/100\n",
            "51/51 - 0s - loss: 9.9226e-04\n",
            "Epoch 77/100\n",
            "51/51 - 0s - loss: 0.0010\n",
            "Epoch 78/100\n",
            "51/51 - 0s - loss: 9.9111e-04\n",
            "Epoch 79/100\n",
            "51/51 - 0s - loss: 0.0010\n",
            "Epoch 80/100\n",
            "51/51 - 0s - loss: 0.0010\n",
            "Epoch 81/100\n",
            "51/51 - 0s - loss: 0.0010\n",
            "Epoch 82/100\n",
            "51/51 - 0s - loss: 9.6373e-04\n",
            "Epoch 83/100\n",
            "51/51 - 0s - loss: 9.9138e-04\n",
            "Epoch 84/100\n",
            "51/51 - 0s - loss: 0.0010\n",
            "Epoch 85/100\n",
            "51/51 - 0s - loss: 0.0010\n",
            "Epoch 86/100\n",
            "51/51 - 0s - loss: 0.0010\n",
            "Epoch 87/100\n",
            "51/51 - 0s - loss: 0.0011\n",
            "Epoch 88/100\n",
            "51/51 - 0s - loss: 0.0010\n",
            "Epoch 89/100\n",
            "51/51 - 0s - loss: 9.7500e-04\n",
            "Epoch 90/100\n",
            "51/51 - 0s - loss: 0.0010\n",
            "Epoch 91/100\n",
            "51/51 - 0s - loss: 0.0010\n",
            "Epoch 92/100\n",
            "51/51 - 0s - loss: 9.6519e-04\n",
            "Epoch 93/100\n",
            "51/51 - 0s - loss: 9.8092e-04\n",
            "Epoch 94/100\n",
            "51/51 - 0s - loss: 9.9308e-04\n",
            "Epoch 95/100\n",
            "51/51 - 0s - loss: 0.0010\n",
            "Epoch 96/100\n",
            "51/51 - 0s - loss: 0.0010\n",
            "Epoch 97/100\n",
            "51/51 - 0s - loss: 0.0010\n",
            "Epoch 98/100\n",
            "51/51 - 0s - loss: 0.0010\n",
            "Epoch 99/100\n",
            "51/51 - 0s - loss: 0.0010\n",
            "Epoch 100/100\n",
            "51/51 - 0s - loss: 9.8134e-04\n"
          ],
          "name": "stdout"
        },
        {
          "output_type": "execute_result",
          "data": {
            "text/plain": [
              "<tensorflow.python.keras.callbacks.History at 0x7fc6823bb470>"
            ]
          },
          "metadata": {
            "tags": []
          },
          "execution_count": 295
        }
      ]
    },
    {
      "cell_type": "code",
      "metadata": {
        "id": "4ngkH6HSTDIp",
        "colab_type": "code",
        "colab": {
          "base_uri": "https://localhost:8080/",
          "height": 50
        },
        "outputId": "e061934a-dbdf-4e29-9098-bae69fda4995"
      },
      "source": [
        "# Make Prediction\n",
        "train_p= model.predict(X_train)\n",
        "test_p= model.predict(X_test)\n",
        "\n",
        "train_p= scaler.inverse_transform(train_p)\n",
        "y_train= scaler.inverse_transform(y_train)\n",
        "test_p= scaler.inverse_transform(test_p)\n",
        "y_test= scaler.inverse_transform(y_test)\n",
        "\n",
        "train_score= mean_squared_error(y_train[:,0], train_p[:,0])\n",
        "test_score= mean_squared_error(y_test[:,0], test_p[:,0])\n",
        "print(\"Train score :{:.2f}\".format(train_score))\n",
        "print(\"Test score :{:.2f}\".format(test_score))\n"
      ],
      "execution_count": 296,
      "outputs": [
        {
          "output_type": "stream",
          "text": [
            "Train score :0.00\n",
            "Test score :0.01\n"
          ],
          "name": "stdout"
        }
      ]
    },
    {
      "cell_type": "code",
      "metadata": {
        "id": "2pd8LQHwTG_G",
        "colab_type": "code",
        "colab": {
          "base_uri": "https://localhost:8080/",
          "height": 269
        },
        "outputId": "07d1db80-3b83-47fc-8657-2425a60afdd1"
      },
      "source": [
        "# shift train predictions for plotting\n",
        "trainPredictPlot = np.empty_like(data)\n",
        "trainPredictPlot[:, :] = np.nan\n",
        "trainPredictPlot[look_back:len(train_p)+look_back, :] = train_p\n",
        "# shift test predictions for plotting\n",
        "testPredictPlot = np.empty_like(data)\n",
        "testPredictPlot[:, :] = np.nan\n",
        "testPredictPlot[len(train_p)+(look_back*2)+1:len(data)-1, :] = test_p\n",
        "# plot baseline and predictions\n",
        "plt.plot(scaler.inverse_transform(data))\n",
        "plt.plot(trainPredictPlot)\n",
        "plt.plot(testPredictPlot)\n",
        "plt.show()"
      ],
      "execution_count": 297,
      "outputs": [
        {
          "output_type": "display_data",
          "data": {
            "image/png": "[encoded data removed]",
            "text/plain": [
              "<Figure size 432x288 with 1 Axes>"
            ]
          },
          "metadata": {
            "tags": []
          }
        }
      ]
    },
    {
      "cell_type": "markdown",
      "metadata": {
        "id": "mmT6W1SXTKL3",
        "colab_type": "text"
      },
      "source": [
        "### DONE"
      ]
    }
  ]
}